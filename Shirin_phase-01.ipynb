{
 "cells": [
  {
   "cell_type": "markdown",
   "id": "4e31df41-f20f-4388-bb17-30e05ebd089e",
   "metadata": {},
   "source": [
    "## **MENTAL HEALTH PREDICTION MODEL**"
   ]
  },
  {
   "cell_type": "markdown",
   "id": "7f422b41-839a-4bcd-9481-cd56016293df",
   "metadata": {},
   "source": [
    "**NAME:** KADEEJATH SHRIN SHAHANA"
   ]
  },
  {
   "cell_type": "markdown",
   "id": "20aa4026-46b6-4ac9-ab71-5df106bd4401",
   "metadata": {},
   "source": [
    "**ORGANIZATION:** ENTRI ELEVATE"
   ]
  },
  {
   "cell_type": "markdown",
   "id": "83e7801b-bf5f-4fb1-bfa4-46dcc8433a81",
   "metadata": {},
   "source": [
    "**DATE:** 12 Dec 2024"
   ]
  },
  {
   "cell_type": "code",
   "execution_count": null,
   "id": "e1a2cefc-f0f9-49ef-9cd5-e9f2cb50cccc",
   "metadata": {},
   "outputs": [],
   "source": []
  },
  {
   "cell_type": "markdown",
   "id": "64d899fe-072d-4640-8fc9-c91399019de8",
   "metadata": {},
   "source": [
    "## **OVERVIEW OF PROBLEM STATEMENT**\n",
    "\n",
    "Mental health issues are often underdiagnosed and untreated due to social stigma and lack of awareness. An effective machine learning model can help predict the likelihood of individuals seeking mental health treatment, enabling better proactive intervention strategies."
   ]
  },
  {
   "cell_type": "code",
   "execution_count": null,
   "id": "e3c0b132-dd3d-4f58-9f92-20d6a008f548",
   "metadata": {},
   "outputs": [],
   "source": []
  },
  {
   "cell_type": "markdown",
   "id": "a5d0cf4b-0398-420c-9510-5600aac4f102",
   "metadata": {},
   "source": [
    "## **OBJECTIVE**\n",
    "\n",
    "To develop a mental health treatment prediction model using machine learning techniques to classify individuals who are likely to seek treatment based on their demographic, occupational, and personal mental health factors."
   ]
  },
  {
   "cell_type": "code",
   "execution_count": null,
   "id": "354f8336-3f56-4ba5-af67-971299def90d",
   "metadata": {},
   "outputs": [],
   "source": []
  },
  {
   "cell_type": "markdown",
   "id": "fca08fba-f9d4-453f-bff9-fdac010de0a8",
   "metadata": {},
   "source": [
    "## **DATA DESCRIPTION**"
   ]
  },
  {
   "cell_type": "markdown",
   "id": "7522f334-056c-4507-85fa-bb7203d5b8d0",
   "metadata": {},
   "source": [
    "**SOURCE:**\n",
    "\n",
    "**The dataset used in this project is obtained from [Kaggle] (https://www.kaggle.com).**\n",
    "\n",
    "**Dataset Name:** Mental_Health_Dataset\n",
    "\n",
    "**Direct Link: <Mental_Health_Dataset>(https://www.kaggle.com/datasets/bhavikjikadara/mental-health-dataset/code).**"
   ]
  },
  {
   "cell_type": "markdown",
   "id": "ba372080-8cbc-4065-88c9-94059c7afb9b",
   "metadata": {},
   "source": [
    "**Features:**\n",
    "\n",
    "Timestamp: When the data was recorded.\n",
    "\n",
    "Gender: Participant's gender.\n",
    "\n",
    "Country: Participant's country.\n",
    "\n",
    "Occupation: Participant's occupation.\n",
    "\n",
    "self_employed: Indicates if the participant is self-employed.\n",
    "\n",
    "family_history: Presence of family history of mental health issues.\n",
    "\n",
    "treatment: Target variable indicating whether the participant sought treatment.\n",
    "\n",
    "Days_Indoors: Time spent indoors.\n",
    "\n",
    "Growing_Stress: Whether the participant feels increasing stress.\n",
    "\n",
    "Changes_Habits: Changes in habits due to mental health.\n",
    "\n",
    "Mental_Health_History: Past mental health history.\n",
    "\n",
    "Mood_Swings: Intensity of mood swings.\n",
    "\n",
    "Coping_Struggles: Difficulties coping with mental health.\n",
    "\n",
    "Work_Interest: Interest in work.\n",
    "\n",
    "Social_Weakness: Social difficulties related to mental health.\n",
    "\n",
    "mental_health_interview: Indicates willingness to participate in a mental health interview.\n",
    "\n",
    "care_options: Awareness of available care options."
   ]
  },
  {
   "cell_type": "markdown",
   "id": "79edbb0b-6dc2-437f-9449-417f11097fab",
   "metadata": {},
   "source": [
    "\n",
    "**Demographic Information:** Gender, Country, Occupation.\n",
    "\n",
    "**Behavioral and Health Factors:** Days_Indoors, Growing_Stress, Changes_Habits, Mental_Health_History, Mood_Swings, Coping_Struggles, Work_Interest, Social_Weakness.\n",
    "\n",
    "**Awareness and Support:** mental_health_interview, care_options.\n",
    "\n",
    "**Target Variable:** treatment."
   ]
  },
  {
   "cell_type": "code",
   "execution_count": null,
   "id": "1217bec6-92cf-4d01-be5b-f3fb20e8b095",
   "metadata": {},
   "outputs": [],
   "source": []
  },
  {
   "cell_type": "markdown",
   "id": "65d5bf0d-cefd-413d-a458-e7aa44d5a86d",
   "metadata": {},
   "source": [
    "## **DATA COLLECTION**"
   ]
  },
  {
   "cell_type": "markdown",
   "id": "bc3ee55e-b73c-40c3-a2e7-d2e0b0c97c51",
   "metadata": {},
   "source": [
    "**IMPORT LIBRARIES**"
   ]
  },
  {
   "cell_type": "code",
   "execution_count": 1,
   "id": "03fc0eb7-9368-40c7-b5d5-876931fd72b9",
   "metadata": {},
   "outputs": [],
   "source": [
    "import pandas as pd\n",
    "import numpy as np #for numerical computions\n",
    "\n",
    "import matplotlib.pyplot as plt\n",
    "import seaborn as sns #for data visualization\n",
    "\n",
    "from sklearn.preprocessing import LabelEncoder, MinMaxScaler ,StandardScaler\n",
    "from sklearn.model_selection import train_test_split #for data preprocessing\n",
    "\n",
    "from sklearn.metrics import (\n",
    "    accuracy_score, \n",
    "    precision_score, \n",
    "    recall_score, \n",
    "    f1_score, \n",
    "    classification_report, \n",
    "    confusion_matrix,\n",
    ") #for model evaluation\n",
    "\n",
    "from sklearn.model_selection import cross_val_score, KFold\n",
    "from sklearn.pipeline import Pipeline\n",
    "from sklearn.tree import DecisionTreeClassifier\n",
    "from sklearn.ensemble import RandomForestClassifier\n",
    "from xgboost import XGBClassifier #for machine learning\n",
    "\n",
    "from sklearn.metrics import accuracy_score, precision_score, recall_score, f1_score, roc_auc_score\n",
    "from sklearn.metrics import confusion_matrix\n",
    "from sklearn.metrics import classification_report\n",
    "\n",
    "from sklearn.linear_model import LogisticRegression\n",
    "from sklearn.ensemble import RandomForestClassifier, GradientBoostingClassifier\n",
    "from sklearn.svm import SVC\n",
    "from sklearn.naive_bayes import GaussianNB\n",
    "from sklearn.neighbors import KNeighborsClassifier\n",
    "from sklearn.tree import DecisionTreeClassifier"
   ]
  },
  {
   "cell_type": "markdown",
   "id": "f0923e1e-96f7-4245-acdf-ebb4005013f6",
   "metadata": {},
   "source": [
    "**IMPORT DATA**"
   ]
  },
  {
   "cell_type": "code",
   "execution_count": 2,
   "id": "975c4d6c-7189-410d-bc61-d467026dc297",
   "metadata": {},
   "outputs": [],
   "source": [
    "data = pd.read_csv(\"Mental Health Dataset.csv\")"
   ]
  },
  {
   "cell_type": "markdown",
   "id": "ff2318c0-5425-42b5-a676-c606f34459d3",
   "metadata": {},
   "source": [
    "**The dataset contains 292,364 entries with 17 features. It includes demographic, behavioral, and mental health-related attributes. The target variable treatment indicates whether a participant sought mental health treatment.**"
   ]
  },
  {
   "cell_type": "code",
   "execution_count": 5,
   "id": "28dd2ec3-bd46-4757-b4a4-e5100c232efb",
   "metadata": {},
   "outputs": [
    {
     "data": {
      "text/html": [
       "<div>\n",
       "<style scoped>\n",
       "    .dataframe tbody tr th:only-of-type {\n",
       "        vertical-align: middle;\n",
       "    }\n",
       "\n",
       "    .dataframe tbody tr th {\n",
       "        vertical-align: top;\n",
       "    }\n",
       "\n",
       "    .dataframe thead th {\n",
       "        text-align: right;\n",
       "    }\n",
       "</style>\n",
       "<table border=\"1\" class=\"dataframe\">\n",
       "  <thead>\n",
       "    <tr style=\"text-align: right;\">\n",
       "      <th></th>\n",
       "      <th>Timestamp</th>\n",
       "      <th>Gender</th>\n",
       "      <th>Country</th>\n",
       "      <th>Occupation</th>\n",
       "      <th>self_employed</th>\n",
       "      <th>family_history</th>\n",
       "      <th>treatment</th>\n",
       "      <th>Days_Indoors</th>\n",
       "      <th>Growing_Stress</th>\n",
       "      <th>Changes_Habits</th>\n",
       "      <th>Mental_Health_History</th>\n",
       "      <th>Mood_Swings</th>\n",
       "      <th>Coping_Struggles</th>\n",
       "      <th>Work_Interest</th>\n",
       "      <th>Social_Weakness</th>\n",
       "      <th>mental_health_interview</th>\n",
       "      <th>care_options</th>\n",
       "    </tr>\n",
       "  </thead>\n",
       "  <tbody>\n",
       "    <tr>\n",
       "      <th>0</th>\n",
       "      <td>8/27/2014 11:29</td>\n",
       "      <td>Female</td>\n",
       "      <td>United States</td>\n",
       "      <td>Corporate</td>\n",
       "      <td>NaN</td>\n",
       "      <td>No</td>\n",
       "      <td>Yes</td>\n",
       "      <td>1-14 days</td>\n",
       "      <td>Yes</td>\n",
       "      <td>No</td>\n",
       "      <td>Yes</td>\n",
       "      <td>Medium</td>\n",
       "      <td>No</td>\n",
       "      <td>No</td>\n",
       "      <td>Yes</td>\n",
       "      <td>No</td>\n",
       "      <td>Not sure</td>\n",
       "    </tr>\n",
       "    <tr>\n",
       "      <th>1</th>\n",
       "      <td>8/27/2014 11:31</td>\n",
       "      <td>Female</td>\n",
       "      <td>United States</td>\n",
       "      <td>Corporate</td>\n",
       "      <td>NaN</td>\n",
       "      <td>Yes</td>\n",
       "      <td>Yes</td>\n",
       "      <td>1-14 days</td>\n",
       "      <td>Yes</td>\n",
       "      <td>No</td>\n",
       "      <td>Yes</td>\n",
       "      <td>Medium</td>\n",
       "      <td>No</td>\n",
       "      <td>No</td>\n",
       "      <td>Yes</td>\n",
       "      <td>No</td>\n",
       "      <td>No</td>\n",
       "    </tr>\n",
       "    <tr>\n",
       "      <th>2</th>\n",
       "      <td>8/27/2014 11:32</td>\n",
       "      <td>Female</td>\n",
       "      <td>United States</td>\n",
       "      <td>Corporate</td>\n",
       "      <td>NaN</td>\n",
       "      <td>Yes</td>\n",
       "      <td>Yes</td>\n",
       "      <td>1-14 days</td>\n",
       "      <td>Yes</td>\n",
       "      <td>No</td>\n",
       "      <td>Yes</td>\n",
       "      <td>Medium</td>\n",
       "      <td>No</td>\n",
       "      <td>No</td>\n",
       "      <td>Yes</td>\n",
       "      <td>No</td>\n",
       "      <td>Yes</td>\n",
       "    </tr>\n",
       "    <tr>\n",
       "      <th>3</th>\n",
       "      <td>8/27/2014 11:37</td>\n",
       "      <td>Female</td>\n",
       "      <td>United States</td>\n",
       "      <td>Corporate</td>\n",
       "      <td>No</td>\n",
       "      <td>Yes</td>\n",
       "      <td>Yes</td>\n",
       "      <td>1-14 days</td>\n",
       "      <td>Yes</td>\n",
       "      <td>No</td>\n",
       "      <td>Yes</td>\n",
       "      <td>Medium</td>\n",
       "      <td>No</td>\n",
       "      <td>No</td>\n",
       "      <td>Yes</td>\n",
       "      <td>Maybe</td>\n",
       "      <td>Yes</td>\n",
       "    </tr>\n",
       "    <tr>\n",
       "      <th>4</th>\n",
       "      <td>8/27/2014 11:43</td>\n",
       "      <td>Female</td>\n",
       "      <td>United States</td>\n",
       "      <td>Corporate</td>\n",
       "      <td>No</td>\n",
       "      <td>Yes</td>\n",
       "      <td>Yes</td>\n",
       "      <td>1-14 days</td>\n",
       "      <td>Yes</td>\n",
       "      <td>No</td>\n",
       "      <td>Yes</td>\n",
       "      <td>Medium</td>\n",
       "      <td>No</td>\n",
       "      <td>No</td>\n",
       "      <td>Yes</td>\n",
       "      <td>No</td>\n",
       "      <td>Yes</td>\n",
       "    </tr>\n",
       "    <tr>\n",
       "      <th>...</th>\n",
       "      <td>...</td>\n",
       "      <td>...</td>\n",
       "      <td>...</td>\n",
       "      <td>...</td>\n",
       "      <td>...</td>\n",
       "      <td>...</td>\n",
       "      <td>...</td>\n",
       "      <td>...</td>\n",
       "      <td>...</td>\n",
       "      <td>...</td>\n",
       "      <td>...</td>\n",
       "      <td>...</td>\n",
       "      <td>...</td>\n",
       "      <td>...</td>\n",
       "      <td>...</td>\n",
       "      <td>...</td>\n",
       "      <td>...</td>\n",
       "    </tr>\n",
       "    <tr>\n",
       "      <th>292359</th>\n",
       "      <td>7/27/2015 23:25</td>\n",
       "      <td>Male</td>\n",
       "      <td>United States</td>\n",
       "      <td>Business</td>\n",
       "      <td>Yes</td>\n",
       "      <td>Yes</td>\n",
       "      <td>Yes</td>\n",
       "      <td>15-30 days</td>\n",
       "      <td>No</td>\n",
       "      <td>Maybe</td>\n",
       "      <td>No</td>\n",
       "      <td>Low</td>\n",
       "      <td>Yes</td>\n",
       "      <td>No</td>\n",
       "      <td>Maybe</td>\n",
       "      <td>Maybe</td>\n",
       "      <td>Not sure</td>\n",
       "    </tr>\n",
       "    <tr>\n",
       "      <th>292360</th>\n",
       "      <td>8/17/2015 9:38</td>\n",
       "      <td>Male</td>\n",
       "      <td>South Africa</td>\n",
       "      <td>Business</td>\n",
       "      <td>No</td>\n",
       "      <td>Yes</td>\n",
       "      <td>Yes</td>\n",
       "      <td>15-30 days</td>\n",
       "      <td>No</td>\n",
       "      <td>Maybe</td>\n",
       "      <td>No</td>\n",
       "      <td>Low</td>\n",
       "      <td>Yes</td>\n",
       "      <td>No</td>\n",
       "      <td>Maybe</td>\n",
       "      <td>No</td>\n",
       "      <td>Yes</td>\n",
       "    </tr>\n",
       "    <tr>\n",
       "      <th>292361</th>\n",
       "      <td>8/25/2015 19:59</td>\n",
       "      <td>Male</td>\n",
       "      <td>United States</td>\n",
       "      <td>Business</td>\n",
       "      <td>No</td>\n",
       "      <td>Yes</td>\n",
       "      <td>No</td>\n",
       "      <td>15-30 days</td>\n",
       "      <td>No</td>\n",
       "      <td>Maybe</td>\n",
       "      <td>No</td>\n",
       "      <td>Low</td>\n",
       "      <td>Yes</td>\n",
       "      <td>No</td>\n",
       "      <td>Maybe</td>\n",
       "      <td>No</td>\n",
       "      <td>No</td>\n",
       "    </tr>\n",
       "    <tr>\n",
       "      <th>292362</th>\n",
       "      <td>9/26/2015 1:07</td>\n",
       "      <td>Male</td>\n",
       "      <td>United States</td>\n",
       "      <td>Business</td>\n",
       "      <td>No</td>\n",
       "      <td>Yes</td>\n",
       "      <td>Yes</td>\n",
       "      <td>15-30 days</td>\n",
       "      <td>No</td>\n",
       "      <td>Maybe</td>\n",
       "      <td>No</td>\n",
       "      <td>Low</td>\n",
       "      <td>Yes</td>\n",
       "      <td>No</td>\n",
       "      <td>Maybe</td>\n",
       "      <td>No</td>\n",
       "      <td>Yes</td>\n",
       "    </tr>\n",
       "    <tr>\n",
       "      <th>292363</th>\n",
       "      <td>2/1/2016 23:04</td>\n",
       "      <td>Male</td>\n",
       "      <td>United States</td>\n",
       "      <td>Business</td>\n",
       "      <td>No</td>\n",
       "      <td>Yes</td>\n",
       "      <td>Yes</td>\n",
       "      <td>15-30 days</td>\n",
       "      <td>No</td>\n",
       "      <td>Maybe</td>\n",
       "      <td>No</td>\n",
       "      <td>Low</td>\n",
       "      <td>Yes</td>\n",
       "      <td>No</td>\n",
       "      <td>Maybe</td>\n",
       "      <td>No</td>\n",
       "      <td>Yes</td>\n",
       "    </tr>\n",
       "  </tbody>\n",
       "</table>\n",
       "<p>292364 rows × 17 columns</p>\n",
       "</div>"
      ],
      "text/plain": [
       "              Timestamp  Gender        Country Occupation self_employed  \\\n",
       "0       8/27/2014 11:29  Female  United States  Corporate           NaN   \n",
       "1       8/27/2014 11:31  Female  United States  Corporate           NaN   \n",
       "2       8/27/2014 11:32  Female  United States  Corporate           NaN   \n",
       "3       8/27/2014 11:37  Female  United States  Corporate            No   \n",
       "4       8/27/2014 11:43  Female  United States  Corporate            No   \n",
       "...                 ...     ...            ...        ...           ...   \n",
       "292359  7/27/2015 23:25    Male  United States   Business           Yes   \n",
       "292360   8/17/2015 9:38    Male   South Africa   Business            No   \n",
       "292361  8/25/2015 19:59    Male  United States   Business            No   \n",
       "292362   9/26/2015 1:07    Male  United States   Business            No   \n",
       "292363   2/1/2016 23:04    Male  United States   Business            No   \n",
       "\n",
       "       family_history treatment Days_Indoors Growing_Stress Changes_Habits  \\\n",
       "0                  No       Yes    1-14 days            Yes             No   \n",
       "1                 Yes       Yes    1-14 days            Yes             No   \n",
       "2                 Yes       Yes    1-14 days            Yes             No   \n",
       "3                 Yes       Yes    1-14 days            Yes             No   \n",
       "4                 Yes       Yes    1-14 days            Yes             No   \n",
       "...               ...       ...          ...            ...            ...   \n",
       "292359            Yes       Yes   15-30 days             No          Maybe   \n",
       "292360            Yes       Yes   15-30 days             No          Maybe   \n",
       "292361            Yes        No   15-30 days             No          Maybe   \n",
       "292362            Yes       Yes   15-30 days             No          Maybe   \n",
       "292363            Yes       Yes   15-30 days             No          Maybe   \n",
       "\n",
       "       Mental_Health_History Mood_Swings Coping_Struggles Work_Interest  \\\n",
       "0                        Yes      Medium               No            No   \n",
       "1                        Yes      Medium               No            No   \n",
       "2                        Yes      Medium               No            No   \n",
       "3                        Yes      Medium               No            No   \n",
       "4                        Yes      Medium               No            No   \n",
       "...                      ...         ...              ...           ...   \n",
       "292359                    No         Low              Yes            No   \n",
       "292360                    No         Low              Yes            No   \n",
       "292361                    No         Low              Yes            No   \n",
       "292362                    No         Low              Yes            No   \n",
       "292363                    No         Low              Yes            No   \n",
       "\n",
       "       Social_Weakness mental_health_interview care_options  \n",
       "0                  Yes                      No     Not sure  \n",
       "1                  Yes                      No           No  \n",
       "2                  Yes                      No          Yes  \n",
       "3                  Yes                   Maybe          Yes  \n",
       "4                  Yes                      No          Yes  \n",
       "...                ...                     ...          ...  \n",
       "292359           Maybe                   Maybe     Not sure  \n",
       "292360           Maybe                      No          Yes  \n",
       "292361           Maybe                      No           No  \n",
       "292362           Maybe                      No          Yes  \n",
       "292363           Maybe                      No          Yes  \n",
       "\n",
       "[292364 rows x 17 columns]"
      ]
     },
     "execution_count": 5,
     "metadata": {},
     "output_type": "execute_result"
    }
   ],
   "source": [
    "df = pd.DataFrame(data)\n",
    "df"
   ]
  },
  {
   "cell_type": "code",
   "execution_count": 7,
   "id": "4bb41c30-ab5a-4ce9-8965-0c5d73229127",
   "metadata": {},
   "outputs": [
    {
     "data": {
      "text/html": [
       "<div>\n",
       "<style scoped>\n",
       "    .dataframe tbody tr th:only-of-type {\n",
       "        vertical-align: middle;\n",
       "    }\n",
       "\n",
       "    .dataframe tbody tr th {\n",
       "        vertical-align: top;\n",
       "    }\n",
       "\n",
       "    .dataframe thead th {\n",
       "        text-align: right;\n",
       "    }\n",
       "</style>\n",
       "<table border=\"1\" class=\"dataframe\">\n",
       "  <thead>\n",
       "    <tr style=\"text-align: right;\">\n",
       "      <th></th>\n",
       "      <th>Timestamp</th>\n",
       "      <th>Gender</th>\n",
       "      <th>Country</th>\n",
       "      <th>Occupation</th>\n",
       "      <th>self_employed</th>\n",
       "      <th>family_history</th>\n",
       "      <th>treatment</th>\n",
       "      <th>Days_Indoors</th>\n",
       "      <th>Growing_Stress</th>\n",
       "      <th>Changes_Habits</th>\n",
       "      <th>Mental_Health_History</th>\n",
       "      <th>Mood_Swings</th>\n",
       "      <th>Coping_Struggles</th>\n",
       "      <th>Work_Interest</th>\n",
       "      <th>Social_Weakness</th>\n",
       "      <th>mental_health_interview</th>\n",
       "      <th>care_options</th>\n",
       "    </tr>\n",
       "  </thead>\n",
       "  <tbody>\n",
       "    <tr>\n",
       "      <th>0</th>\n",
       "      <td>8/27/2014 11:29</td>\n",
       "      <td>Female</td>\n",
       "      <td>United States</td>\n",
       "      <td>Corporate</td>\n",
       "      <td>NaN</td>\n",
       "      <td>No</td>\n",
       "      <td>Yes</td>\n",
       "      <td>1-14 days</td>\n",
       "      <td>Yes</td>\n",
       "      <td>No</td>\n",
       "      <td>Yes</td>\n",
       "      <td>Medium</td>\n",
       "      <td>No</td>\n",
       "      <td>No</td>\n",
       "      <td>Yes</td>\n",
       "      <td>No</td>\n",
       "      <td>Not sure</td>\n",
       "    </tr>\n",
       "    <tr>\n",
       "      <th>1</th>\n",
       "      <td>8/27/2014 11:31</td>\n",
       "      <td>Female</td>\n",
       "      <td>United States</td>\n",
       "      <td>Corporate</td>\n",
       "      <td>NaN</td>\n",
       "      <td>Yes</td>\n",
       "      <td>Yes</td>\n",
       "      <td>1-14 days</td>\n",
       "      <td>Yes</td>\n",
       "      <td>No</td>\n",
       "      <td>Yes</td>\n",
       "      <td>Medium</td>\n",
       "      <td>No</td>\n",
       "      <td>No</td>\n",
       "      <td>Yes</td>\n",
       "      <td>No</td>\n",
       "      <td>No</td>\n",
       "    </tr>\n",
       "    <tr>\n",
       "      <th>2</th>\n",
       "      <td>8/27/2014 11:32</td>\n",
       "      <td>Female</td>\n",
       "      <td>United States</td>\n",
       "      <td>Corporate</td>\n",
       "      <td>NaN</td>\n",
       "      <td>Yes</td>\n",
       "      <td>Yes</td>\n",
       "      <td>1-14 days</td>\n",
       "      <td>Yes</td>\n",
       "      <td>No</td>\n",
       "      <td>Yes</td>\n",
       "      <td>Medium</td>\n",
       "      <td>No</td>\n",
       "      <td>No</td>\n",
       "      <td>Yes</td>\n",
       "      <td>No</td>\n",
       "      <td>Yes</td>\n",
       "    </tr>\n",
       "    <tr>\n",
       "      <th>3</th>\n",
       "      <td>8/27/2014 11:37</td>\n",
       "      <td>Female</td>\n",
       "      <td>United States</td>\n",
       "      <td>Corporate</td>\n",
       "      <td>No</td>\n",
       "      <td>Yes</td>\n",
       "      <td>Yes</td>\n",
       "      <td>1-14 days</td>\n",
       "      <td>Yes</td>\n",
       "      <td>No</td>\n",
       "      <td>Yes</td>\n",
       "      <td>Medium</td>\n",
       "      <td>No</td>\n",
       "      <td>No</td>\n",
       "      <td>Yes</td>\n",
       "      <td>Maybe</td>\n",
       "      <td>Yes</td>\n",
       "    </tr>\n",
       "    <tr>\n",
       "      <th>4</th>\n",
       "      <td>8/27/2014 11:43</td>\n",
       "      <td>Female</td>\n",
       "      <td>United States</td>\n",
       "      <td>Corporate</td>\n",
       "      <td>No</td>\n",
       "      <td>Yes</td>\n",
       "      <td>Yes</td>\n",
       "      <td>1-14 days</td>\n",
       "      <td>Yes</td>\n",
       "      <td>No</td>\n",
       "      <td>Yes</td>\n",
       "      <td>Medium</td>\n",
       "      <td>No</td>\n",
       "      <td>No</td>\n",
       "      <td>Yes</td>\n",
       "      <td>No</td>\n",
       "      <td>Yes</td>\n",
       "    </tr>\n",
       "    <tr>\n",
       "      <th>5</th>\n",
       "      <td>8/27/2014 11:49</td>\n",
       "      <td>Female</td>\n",
       "      <td>Poland</td>\n",
       "      <td>Corporate</td>\n",
       "      <td>No</td>\n",
       "      <td>No</td>\n",
       "      <td>Yes</td>\n",
       "      <td>1-14 days</td>\n",
       "      <td>Yes</td>\n",
       "      <td>No</td>\n",
       "      <td>Yes</td>\n",
       "      <td>Medium</td>\n",
       "      <td>No</td>\n",
       "      <td>No</td>\n",
       "      <td>Yes</td>\n",
       "      <td>Maybe</td>\n",
       "      <td>Not sure</td>\n",
       "    </tr>\n",
       "    <tr>\n",
       "      <th>6</th>\n",
       "      <td>8/27/2014 11:51</td>\n",
       "      <td>Female</td>\n",
       "      <td>Australia</td>\n",
       "      <td>Corporate</td>\n",
       "      <td>No</td>\n",
       "      <td>Yes</td>\n",
       "      <td>Yes</td>\n",
       "      <td>1-14 days</td>\n",
       "      <td>Yes</td>\n",
       "      <td>No</td>\n",
       "      <td>Yes</td>\n",
       "      <td>Medium</td>\n",
       "      <td>No</td>\n",
       "      <td>No</td>\n",
       "      <td>Yes</td>\n",
       "      <td>No</td>\n",
       "      <td>Not sure</td>\n",
       "    </tr>\n",
       "    <tr>\n",
       "      <th>7</th>\n",
       "      <td>8/27/2014 11:52</td>\n",
       "      <td>Female</td>\n",
       "      <td>United States</td>\n",
       "      <td>Corporate</td>\n",
       "      <td>No</td>\n",
       "      <td>No</td>\n",
       "      <td>No</td>\n",
       "      <td>1-14 days</td>\n",
       "      <td>Yes</td>\n",
       "      <td>No</td>\n",
       "      <td>Yes</td>\n",
       "      <td>Medium</td>\n",
       "      <td>No</td>\n",
       "      <td>No</td>\n",
       "      <td>Yes</td>\n",
       "      <td>No</td>\n",
       "      <td>No</td>\n",
       "    </tr>\n",
       "    <tr>\n",
       "      <th>8</th>\n",
       "      <td>8/27/2014 12:18</td>\n",
       "      <td>Female</td>\n",
       "      <td>United States</td>\n",
       "      <td>Corporate</td>\n",
       "      <td>No</td>\n",
       "      <td>No</td>\n",
       "      <td>No</td>\n",
       "      <td>1-14 days</td>\n",
       "      <td>Yes</td>\n",
       "      <td>No</td>\n",
       "      <td>Yes</td>\n",
       "      <td>Medium</td>\n",
       "      <td>No</td>\n",
       "      <td>No</td>\n",
       "      <td>Yes</td>\n",
       "      <td>No</td>\n",
       "      <td>Not sure</td>\n",
       "    </tr>\n",
       "    <tr>\n",
       "      <th>9</th>\n",
       "      <td>8/27/2014 12:37</td>\n",
       "      <td>Female</td>\n",
       "      <td>United States</td>\n",
       "      <td>Corporate</td>\n",
       "      <td>No</td>\n",
       "      <td>No</td>\n",
       "      <td>No</td>\n",
       "      <td>1-14 days</td>\n",
       "      <td>Yes</td>\n",
       "      <td>No</td>\n",
       "      <td>Yes</td>\n",
       "      <td>Medium</td>\n",
       "      <td>No</td>\n",
       "      <td>No</td>\n",
       "      <td>Yes</td>\n",
       "      <td>No</td>\n",
       "      <td>No</td>\n",
       "    </tr>\n",
       "  </tbody>\n",
       "</table>\n",
       "</div>"
      ],
      "text/plain": [
       "         Timestamp  Gender        Country Occupation self_employed  \\\n",
       "0  8/27/2014 11:29  Female  United States  Corporate           NaN   \n",
       "1  8/27/2014 11:31  Female  United States  Corporate           NaN   \n",
       "2  8/27/2014 11:32  Female  United States  Corporate           NaN   \n",
       "3  8/27/2014 11:37  Female  United States  Corporate            No   \n",
       "4  8/27/2014 11:43  Female  United States  Corporate            No   \n",
       "5  8/27/2014 11:49  Female         Poland  Corporate            No   \n",
       "6  8/27/2014 11:51  Female      Australia  Corporate            No   \n",
       "7  8/27/2014 11:52  Female  United States  Corporate            No   \n",
       "8  8/27/2014 12:18  Female  United States  Corporate            No   \n",
       "9  8/27/2014 12:37  Female  United States  Corporate            No   \n",
       "\n",
       "  family_history treatment Days_Indoors Growing_Stress Changes_Habits  \\\n",
       "0             No       Yes    1-14 days            Yes             No   \n",
       "1            Yes       Yes    1-14 days            Yes             No   \n",
       "2            Yes       Yes    1-14 days            Yes             No   \n",
       "3            Yes       Yes    1-14 days            Yes             No   \n",
       "4            Yes       Yes    1-14 days            Yes             No   \n",
       "5             No       Yes    1-14 days            Yes             No   \n",
       "6            Yes       Yes    1-14 days            Yes             No   \n",
       "7             No        No    1-14 days            Yes             No   \n",
       "8             No        No    1-14 days            Yes             No   \n",
       "9             No        No    1-14 days            Yes             No   \n",
       "\n",
       "  Mental_Health_History Mood_Swings Coping_Struggles Work_Interest  \\\n",
       "0                   Yes      Medium               No            No   \n",
       "1                   Yes      Medium               No            No   \n",
       "2                   Yes      Medium               No            No   \n",
       "3                   Yes      Medium               No            No   \n",
       "4                   Yes      Medium               No            No   \n",
       "5                   Yes      Medium               No            No   \n",
       "6                   Yes      Medium               No            No   \n",
       "7                   Yes      Medium               No            No   \n",
       "8                   Yes      Medium               No            No   \n",
       "9                   Yes      Medium               No            No   \n",
       "\n",
       "  Social_Weakness mental_health_interview care_options  \n",
       "0             Yes                      No     Not sure  \n",
       "1             Yes                      No           No  \n",
       "2             Yes                      No          Yes  \n",
       "3             Yes                   Maybe          Yes  \n",
       "4             Yes                      No          Yes  \n",
       "5             Yes                   Maybe     Not sure  \n",
       "6             Yes                      No     Not sure  \n",
       "7             Yes                      No           No  \n",
       "8             Yes                      No     Not sure  \n",
       "9             Yes                      No           No  "
      ]
     },
     "execution_count": 7,
     "metadata": {},
     "output_type": "execute_result"
    }
   ],
   "source": [
    "df.head(10)"
   ]
  },
  {
   "cell_type": "code",
   "execution_count": null,
   "id": "b4406ab9-db31-4a8a-9cfa-5b74f31417da",
   "metadata": {},
   "outputs": [],
   "source": []
  },
  {
   "cell_type": "markdown",
   "id": "cfdfbcf7-ff91-4108-98a4-c402e5aeacf2",
   "metadata": {},
   "source": [
    "**DATA INFORMATIONS**"
   ]
  },
  {
   "cell_type": "code",
   "execution_count": 9,
   "id": "63e8ef05-8a95-42b1-9c8c-49c34f8effe9",
   "metadata": {},
   "outputs": [
    {
     "name": "stdout",
     "output_type": "stream",
     "text": [
      "<class 'pandas.core.frame.DataFrame'>\n",
      "RangeIndex: 292364 entries, 0 to 292363\n",
      "Data columns (total 17 columns):\n",
      " #   Column                   Non-Null Count   Dtype \n",
      "---  ------                   --------------   ----- \n",
      " 0   Timestamp                292364 non-null  object\n",
      " 1   Gender                   292364 non-null  object\n",
      " 2   Country                  292364 non-null  object\n",
      " 3   Occupation               292364 non-null  object\n",
      " 4   self_employed            287162 non-null  object\n",
      " 5   family_history           292364 non-null  object\n",
      " 6   treatment                292364 non-null  object\n",
      " 7   Days_Indoors             292364 non-null  object\n",
      " 8   Growing_Stress           292364 non-null  object\n",
      " 9   Changes_Habits           292364 non-null  object\n",
      " 10  Mental_Health_History    292364 non-null  object\n",
      " 11  Mood_Swings              292364 non-null  object\n",
      " 12  Coping_Struggles         292364 non-null  object\n",
      " 13  Work_Interest            292364 non-null  object\n",
      " 14  Social_Weakness          292364 non-null  object\n",
      " 15  mental_health_interview  292364 non-null  object\n",
      " 16  care_options             292364 non-null  object\n",
      "dtypes: object(17)\n",
      "memory usage: 37.9+ MB\n"
     ]
    }
   ],
   "source": [
    "df.info()"
   ]
  },
  {
   "cell_type": "code",
   "execution_count": null,
   "id": "560e2c13-def4-420b-b9ff-433cd2ae064e",
   "metadata": {},
   "outputs": [],
   "source": []
  },
  {
   "cell_type": "code",
   "execution_count": 11,
   "id": "55fc7ef1-26c4-4667-9cae-614e6c03c118",
   "metadata": {},
   "outputs": [
    {
     "data": {
      "text/plain": [
       "(292364, 17)"
      ]
     },
     "execution_count": 11,
     "metadata": {},
     "output_type": "execute_result"
    }
   ],
   "source": [
    "df.shape"
   ]
  },
  {
   "cell_type": "code",
   "execution_count": null,
   "id": "aea22774-2c31-4c92-9530-0567fb0bbb71",
   "metadata": {},
   "outputs": [],
   "source": []
  },
  {
   "cell_type": "code",
   "execution_count": 13,
   "id": "21ae844b-1b71-497f-b1b3-8bc67bbb1dda",
   "metadata": {},
   "outputs": [
    {
     "data": {
      "text/html": [
       "<div>\n",
       "<style scoped>\n",
       "    .dataframe tbody tr th:only-of-type {\n",
       "        vertical-align: middle;\n",
       "    }\n",
       "\n",
       "    .dataframe tbody tr th {\n",
       "        vertical-align: top;\n",
       "    }\n",
       "\n",
       "    .dataframe thead th {\n",
       "        text-align: right;\n",
       "    }\n",
       "</style>\n",
       "<table border=\"1\" class=\"dataframe\">\n",
       "  <thead>\n",
       "    <tr style=\"text-align: right;\">\n",
       "      <th></th>\n",
       "      <th>Timestamp</th>\n",
       "      <th>Gender</th>\n",
       "      <th>Country</th>\n",
       "      <th>Occupation</th>\n",
       "      <th>self_employed</th>\n",
       "      <th>family_history</th>\n",
       "      <th>treatment</th>\n",
       "      <th>Days_Indoors</th>\n",
       "      <th>Growing_Stress</th>\n",
       "      <th>Changes_Habits</th>\n",
       "      <th>Mental_Health_History</th>\n",
       "      <th>Mood_Swings</th>\n",
       "      <th>Coping_Struggles</th>\n",
       "      <th>Work_Interest</th>\n",
       "      <th>Social_Weakness</th>\n",
       "      <th>mental_health_interview</th>\n",
       "      <th>care_options</th>\n",
       "    </tr>\n",
       "  </thead>\n",
       "  <tbody>\n",
       "    <tr>\n",
       "      <th>count</th>\n",
       "      <td>292364</td>\n",
       "      <td>292364</td>\n",
       "      <td>292364</td>\n",
       "      <td>292364</td>\n",
       "      <td>287162</td>\n",
       "      <td>292364</td>\n",
       "      <td>292364</td>\n",
       "      <td>292364</td>\n",
       "      <td>292364</td>\n",
       "      <td>292364</td>\n",
       "      <td>292364</td>\n",
       "      <td>292364</td>\n",
       "      <td>292364</td>\n",
       "      <td>292364</td>\n",
       "      <td>292364</td>\n",
       "      <td>292364</td>\n",
       "      <td>292364</td>\n",
       "    </tr>\n",
       "    <tr>\n",
       "      <th>unique</th>\n",
       "      <td>580</td>\n",
       "      <td>2</td>\n",
       "      <td>35</td>\n",
       "      <td>5</td>\n",
       "      <td>2</td>\n",
       "      <td>2</td>\n",
       "      <td>2</td>\n",
       "      <td>5</td>\n",
       "      <td>3</td>\n",
       "      <td>3</td>\n",
       "      <td>3</td>\n",
       "      <td>3</td>\n",
       "      <td>2</td>\n",
       "      <td>3</td>\n",
       "      <td>3</td>\n",
       "      <td>3</td>\n",
       "      <td>3</td>\n",
       "    </tr>\n",
       "    <tr>\n",
       "      <th>top</th>\n",
       "      <td>8/27/2014 11:43</td>\n",
       "      <td>Male</td>\n",
       "      <td>United States</td>\n",
       "      <td>Housewife</td>\n",
       "      <td>No</td>\n",
       "      <td>No</td>\n",
       "      <td>Yes</td>\n",
       "      <td>1-14 days</td>\n",
       "      <td>Maybe</td>\n",
       "      <td>Yes</td>\n",
       "      <td>No</td>\n",
       "      <td>Medium</td>\n",
       "      <td>No</td>\n",
       "      <td>No</td>\n",
       "      <td>Maybe</td>\n",
       "      <td>No</td>\n",
       "      <td>No</td>\n",
       "    </tr>\n",
       "    <tr>\n",
       "      <th>freq</th>\n",
       "      <td>2384</td>\n",
       "      <td>239850</td>\n",
       "      <td>171308</td>\n",
       "      <td>66351</td>\n",
       "      <td>257994</td>\n",
       "      <td>176832</td>\n",
       "      <td>147606</td>\n",
       "      <td>63548</td>\n",
       "      <td>99985</td>\n",
       "      <td>109523</td>\n",
       "      <td>104018</td>\n",
       "      <td>101064</td>\n",
       "      <td>154328</td>\n",
       "      <td>105843</td>\n",
       "      <td>103393</td>\n",
       "      <td>232166</td>\n",
       "      <td>118886</td>\n",
       "    </tr>\n",
       "  </tbody>\n",
       "</table>\n",
       "</div>"
      ],
      "text/plain": [
       "              Timestamp  Gender        Country Occupation self_employed  \\\n",
       "count            292364  292364         292364     292364        287162   \n",
       "unique              580       2             35          5             2   \n",
       "top     8/27/2014 11:43    Male  United States  Housewife            No   \n",
       "freq               2384  239850         171308      66351        257994   \n",
       "\n",
       "       family_history treatment Days_Indoors Growing_Stress Changes_Habits  \\\n",
       "count          292364    292364       292364         292364         292364   \n",
       "unique              2         2            5              3              3   \n",
       "top                No       Yes    1-14 days          Maybe            Yes   \n",
       "freq           176832    147606        63548          99985         109523   \n",
       "\n",
       "       Mental_Health_History Mood_Swings Coping_Struggles Work_Interest  \\\n",
       "count                 292364      292364           292364        292364   \n",
       "unique                     3           3                2             3   \n",
       "top                       No      Medium               No            No   \n",
       "freq                  104018      101064           154328        105843   \n",
       "\n",
       "       Social_Weakness mental_health_interview care_options  \n",
       "count           292364                  292364       292364  \n",
       "unique               3                       3            3  \n",
       "top              Maybe                      No           No  \n",
       "freq            103393                  232166       118886  "
      ]
     },
     "execution_count": 13,
     "metadata": {},
     "output_type": "execute_result"
    }
   ],
   "source": [
    "df.describe()"
   ]
  },
  {
   "cell_type": "code",
   "execution_count": null,
   "id": "fe75aed8-4adb-4b93-a563-87266a6d5149",
   "metadata": {},
   "outputs": [],
   "source": []
  },
  {
   "cell_type": "code",
   "execution_count": 15,
   "id": "36c0a1a5-d221-457e-87c9-321302f3a03d",
   "metadata": {},
   "outputs": [
    {
     "data": {
      "text/plain": [
       "Index(['Timestamp', 'Gender', 'Country', 'Occupation', 'self_employed',\n",
       "       'family_history', 'treatment', 'Days_Indoors', 'Growing_Stress',\n",
       "       'Changes_Habits', 'Mental_Health_History', 'Mood_Swings',\n",
       "       'Coping_Struggles', 'Work_Interest', 'Social_Weakness',\n",
       "       'mental_health_interview', 'care_options'],\n",
       "      dtype='object')"
      ]
     },
     "execution_count": 15,
     "metadata": {},
     "output_type": "execute_result"
    }
   ],
   "source": [
    "df.columns"
   ]
  },
  {
   "cell_type": "code",
   "execution_count": null,
   "id": "ce203054-6213-47bb-9920-c4d834342530",
   "metadata": {},
   "outputs": [],
   "source": []
  },
  {
   "cell_type": "code",
   "execution_count": 17,
   "id": "6c35f21a-6e1d-4d85-a181-f1ace380b486",
   "metadata": {},
   "outputs": [
    {
     "data": {
      "text/plain": [
       "Timestamp                  object\n",
       "Gender                     object\n",
       "Country                    object\n",
       "Occupation                 object\n",
       "self_employed              object\n",
       "family_history             object\n",
       "treatment                  object\n",
       "Days_Indoors               object\n",
       "Growing_Stress             object\n",
       "Changes_Habits             object\n",
       "Mental_Health_History      object\n",
       "Mood_Swings                object\n",
       "Coping_Struggles           object\n",
       "Work_Interest              object\n",
       "Social_Weakness            object\n",
       "mental_health_interview    object\n",
       "care_options               object\n",
       "dtype: object"
      ]
     },
     "execution_count": 17,
     "metadata": {},
     "output_type": "execute_result"
    }
   ],
   "source": [
    "df.dtypes"
   ]
  },
  {
   "cell_type": "code",
   "execution_count": null,
   "id": "cc360194-09c9-42e1-a409-cd2b8fc51b0f",
   "metadata": {},
   "outputs": [],
   "source": []
  },
  {
   "cell_type": "markdown",
   "id": "7695d4ea-71c8-45e2-acb9-18ff60b17a05",
   "metadata": {},
   "source": [
    "## **DATA PREPROCESSING - DATA CLEANING**"
   ]
  },
  {
   "cell_type": "markdown",
   "id": "3ec6a5d8-79bd-45d6-82e3-6679850e0eb0",
   "metadata": {},
   "source": [
    "**Check for missing values.**"
   ]
  },
  {
   "cell_type": "code",
   "execution_count": 19,
   "id": "0b6bee5f-d7ba-4cce-93c7-071eb8fbf495",
   "metadata": {},
   "outputs": [
    {
     "data": {
      "text/plain": [
       "Timestamp                     0\n",
       "Gender                        0\n",
       "Country                       0\n",
       "Occupation                    0\n",
       "self_employed              5202\n",
       "family_history                0\n",
       "treatment                     0\n",
       "Days_Indoors                  0\n",
       "Growing_Stress                0\n",
       "Changes_Habits                0\n",
       "Mental_Health_History         0\n",
       "Mood_Swings                   0\n",
       "Coping_Struggles              0\n",
       "Work_Interest                 0\n",
       "Social_Weakness               0\n",
       "mental_health_interview       0\n",
       "care_options                  0\n",
       "dtype: int64"
      ]
     },
     "execution_count": 19,
     "metadata": {},
     "output_type": "execute_result"
    }
   ],
   "source": [
    "df.isnull().sum()"
   ]
  },
  {
   "cell_type": "code",
   "execution_count": 21,
   "id": "07faa636-22e1-41b2-b6ef-58b55f918156",
   "metadata": {},
   "outputs": [
    {
     "name": "stdout",
     "output_type": "stream",
     "text": [
      "Percentage of Missing values\n"
     ]
    },
    {
     "data": {
      "text/plain": [
       "Timestamp                  0.0\n",
       "Gender                     0.0\n",
       "Country                    0.0\n",
       "Occupation                 0.0\n",
       "self_employed              1.8\n",
       "family_history             0.0\n",
       "treatment                  0.0\n",
       "Days_Indoors               0.0\n",
       "Growing_Stress             0.0\n",
       "Changes_Habits             0.0\n",
       "Mental_Health_History      0.0\n",
       "Mood_Swings                0.0\n",
       "Coping_Struggles           0.0\n",
       "Work_Interest              0.0\n",
       "Social_Weakness            0.0\n",
       "mental_health_interview    0.0\n",
       "care_options               0.0\n",
       "dtype: float64"
      ]
     },
     "execution_count": 21,
     "metadata": {},
     "output_type": "execute_result"
    }
   ],
   "source": [
    "print('Percentage of Missing values')\n",
    "(df.isna().mean() * 100).round(1)"
   ]
  },
  {
   "cell_type": "code",
   "execution_count": 23,
   "id": "8d51b2db-3c38-407d-a18d-0cffe8a27390",
   "metadata": {},
   "outputs": [],
   "source": [
    "df.dropna(inplace = True)"
   ]
  },
  {
   "cell_type": "markdown",
   "id": "5c26a7e3-1dc0-4930-ade9-5a6e0c0b1a09",
   "metadata": {},
   "source": [
    "**Since the dataset has less than 2% (i.e; 5202) of missing data, dropping those rows will have minimal impact.**"
   ]
  },
  {
   "cell_type": "code",
   "execution_count": null,
   "id": "78709f62-6859-432e-ba89-1f5578cf4694",
   "metadata": {},
   "outputs": [],
   "source": []
  },
  {
   "cell_type": "code",
   "execution_count": 25,
   "id": "cdbb4264-5483-4b70-b61e-ffa7a02e731d",
   "metadata": {},
   "outputs": [
    {
     "data": {
      "text/plain": [
       "Timestamp                  0\n",
       "Gender                     0\n",
       "Country                    0\n",
       "Occupation                 0\n",
       "self_employed              0\n",
       "family_history             0\n",
       "treatment                  0\n",
       "Days_Indoors               0\n",
       "Growing_Stress             0\n",
       "Changes_Habits             0\n",
       "Mental_Health_History      0\n",
       "Mood_Swings                0\n",
       "Coping_Struggles           0\n",
       "Work_Interest              0\n",
       "Social_Weakness            0\n",
       "mental_health_interview    0\n",
       "care_options               0\n",
       "dtype: int64"
      ]
     },
     "execution_count": 25,
     "metadata": {},
     "output_type": "execute_result"
    }
   ],
   "source": [
    "df.isna().sum()"
   ]
  },
  {
   "cell_type": "code",
   "execution_count": null,
   "id": "469972c3-f173-4c86-a105-8698a14b55bc",
   "metadata": {},
   "outputs": [],
   "source": []
  },
  {
   "cell_type": "markdown",
   "id": "a9281952-7c09-4ce9-94e4-babdc285d094",
   "metadata": {},
   "source": [
    "**Check for Duplicate entries.**"
   ]
  },
  {
   "cell_type": "code",
   "execution_count": 27,
   "id": "9d47e54c-4f15-4036-82eb-63adf43f5139",
   "metadata": {},
   "outputs": [
    {
     "data": {
      "text/plain": [
       "3         False\n",
       "4         False\n",
       "5         False\n",
       "6         False\n",
       "7         False\n",
       "          ...  \n",
       "292359    False\n",
       "292360    False\n",
       "292361    False\n",
       "292362    False\n",
       "292363    False\n",
       "Length: 287162, dtype: bool"
      ]
     },
     "execution_count": 27,
     "metadata": {},
     "output_type": "execute_result"
    }
   ],
   "source": [
    "df.duplicated()"
   ]
  },
  {
   "cell_type": "code",
   "execution_count": 29,
   "id": "a37a5ec9-539e-4778-b8a3-725c8d407b8a",
   "metadata": {},
   "outputs": [
    {
     "name": "stdout",
     "output_type": "stream",
     "text": [
      "Number of Duplicates: 2304\n"
     ]
    }
   ],
   "source": [
    "print(f\"Number of Duplicates: {df.duplicated().sum()}\")"
   ]
  },
  {
   "cell_type": "code",
   "execution_count": 31,
   "id": "9106cf4a-6f14-4f16-acad-50d9cef21a09",
   "metadata": {},
   "outputs": [
    {
     "name": "stdout",
     "output_type": "stream",
     "text": [
      "Percentage of Duplicates: 0.8%\n"
     ]
    }
   ],
   "source": [
    "print('Percentage of Duplicates: {:.1%}'.format(df.duplicated().mean()))"
   ]
  },
  {
   "cell_type": "code",
   "execution_count": null,
   "id": "0d4a4f81-1f84-4c82-b573-cb83bfaafa19",
   "metadata": {},
   "outputs": [],
   "source": []
  },
  {
   "cell_type": "markdown",
   "id": "27b488b7-14bd-42cd-ab32-65ac653b8275",
   "metadata": {},
   "source": [
    "**#dropping duplicates**"
   ]
  },
  {
   "cell_type": "code",
   "execution_count": 33,
   "id": "2e3b3491-9de0-4ef5-965a-6e2796a509b3",
   "metadata": {},
   "outputs": [],
   "source": [
    "df.drop_duplicates(inplace = True)"
   ]
  },
  {
   "cell_type": "code",
   "execution_count": 35,
   "id": "aa76735e-1da8-4731-83aa-0357e0fd652f",
   "metadata": {},
   "outputs": [
    {
     "name": "stdout",
     "output_type": "stream",
     "text": [
      "Number of Duplicates: 0\n"
     ]
    }
   ],
   "source": [
    "print('Number of Duplicates: {:,}'.format(df.duplicated().sum()))"
   ]
  },
  {
   "cell_type": "code",
   "execution_count": null,
   "id": "e0e7985b-935e-4b9f-a9c2-fee740c91c89",
   "metadata": {},
   "outputs": [],
   "source": []
  },
  {
   "cell_type": "markdown",
   "id": "eb0195c4-9793-46f2-8995-808047a22266",
   "metadata": {},
   "source": [
    "**Drop unnecessary columns if any,**"
   ]
  },
  {
   "cell_type": "markdown",
   "id": "88b0b60a-44ee-4818-ab92-d18032541b04",
   "metadata": {},
   "source": [
    "**Since Timestamp does not influence prediction, dropping it.**"
   ]
  },
  {
   "cell_type": "code",
   "execution_count": 37,
   "id": "9e576c03-91ee-4421-980a-3eebb15d9ba2",
   "metadata": {},
   "outputs": [],
   "source": [
    "df.drop(columns = \"Timestamp\", inplace = True)"
   ]
  },
  {
   "cell_type": "code",
   "execution_count": null,
   "id": "747f047f-6470-49be-a543-8a7c5fc9d79f",
   "metadata": {},
   "outputs": [],
   "source": []
  },
  {
   "cell_type": "code",
   "execution_count": 39,
   "id": "a03a15ef-c6e1-4c0e-a239-0e8b7b2d1aef",
   "metadata": {},
   "outputs": [
    {
     "data": {
      "text/plain": [
       "Index(['Gender', 'Country', 'Occupation', 'self_employed', 'family_history',\n",
       "       'treatment', 'Days_Indoors', 'Growing_Stress', 'Changes_Habits',\n",
       "       'Mental_Health_History', 'Mood_Swings', 'Coping_Struggles',\n",
       "       'Work_Interest', 'Social_Weakness', 'mental_health_interview',\n",
       "       'care_options'],\n",
       "      dtype='object')"
      ]
     },
     "execution_count": 39,
     "metadata": {},
     "output_type": "execute_result"
    }
   ],
   "source": [
    "df.columns"
   ]
  },
  {
   "cell_type": "code",
   "execution_count": null,
   "id": "740793b0-dbd6-4bcc-8535-5f6ea8f9c4e2",
   "metadata": {},
   "outputs": [],
   "source": []
  },
  {
   "cell_type": "code",
   "execution_count": 41,
   "id": "230e9c2d-2ca3-4ec9-82d4-21dfe9039a70",
   "metadata": {},
   "outputs": [
    {
     "name": "stdout",
     "output_type": "stream",
     "text": [
      "Missing values per column:\n",
      " Gender                     0\n",
      "Country                    0\n",
      "Occupation                 0\n",
      "self_employed              0\n",
      "family_history             0\n",
      "treatment                  0\n",
      "Days_Indoors               0\n",
      "Growing_Stress             0\n",
      "Changes_Habits             0\n",
      "Mental_Health_History      0\n",
      "Mood_Swings                0\n",
      "Coping_Struggles           0\n",
      "Work_Interest              0\n",
      "Social_Weakness            0\n",
      "mental_health_interview    0\n",
      "care_options               0\n",
      "dtype: int64\n"
     ]
    }
   ],
   "source": [
    "print(\"Missing values per column:\\n\", df.isnull().sum())"
   ]
  },
  {
   "cell_type": "code",
   "execution_count": null,
   "id": "856cf895-160d-44dc-a9bc-c23dc2cbb536",
   "metadata": {},
   "outputs": [],
   "source": []
  },
  {
   "cell_type": "markdown",
   "id": "d7b27fc6-a23e-4066-8c7c-a212d16cf0c7",
   "metadata": {},
   "source": [
    "**CHECK FOR OUTLIERS**"
   ]
  },
  {
   "cell_type": "code",
   "execution_count": 43,
   "id": "86134d13-bfd3-4c5e-97de-e8f26cbb761f",
   "metadata": {},
   "outputs": [
    {
     "name": "stdout",
     "output_type": "stream",
     "text": [
      "<class 'pandas.core.frame.DataFrame'>\n",
      "Index: 284858 entries, 3 to 292363\n",
      "Data columns (total 16 columns):\n",
      " #   Column                   Non-Null Count   Dtype \n",
      "---  ------                   --------------   ----- \n",
      " 0   Gender                   284858 non-null  object\n",
      " 1   Country                  284858 non-null  object\n",
      " 2   Occupation               284858 non-null  object\n",
      " 3   self_employed            284858 non-null  object\n",
      " 4   family_history           284858 non-null  object\n",
      " 5   treatment                284858 non-null  object\n",
      " 6   Days_Indoors             284858 non-null  object\n",
      " 7   Growing_Stress           284858 non-null  object\n",
      " 8   Changes_Habits           284858 non-null  object\n",
      " 9   Mental_Health_History    284858 non-null  object\n",
      " 10  Mood_Swings              284858 non-null  object\n",
      " 11  Coping_Struggles         284858 non-null  object\n",
      " 12  Work_Interest            284858 non-null  object\n",
      " 13  Social_Weakness          284858 non-null  object\n",
      " 14  mental_health_interview  284858 non-null  object\n",
      " 15  care_options             284858 non-null  object\n",
      "dtypes: object(16)\n",
      "memory usage: 36.9+ MB\n"
     ]
    }
   ],
   "source": [
    "df.info()"
   ]
  },
  {
   "cell_type": "markdown",
   "id": "9fcbbeb7-578d-4acb-9280-24f43a9f63d0",
   "metadata": {},
   "source": [
    "**Since the dataset contains only categorical (object) values, the concept of outliers does not apply. Instead, a thorough validation of category consistency and frequency distribution will be performed to ensure data quality.**"
   ]
  },
  {
   "cell_type": "code",
   "execution_count": null,
   "id": "555ec4c6-8262-4d49-847c-459fd3b20c59",
   "metadata": {},
   "outputs": [],
   "source": []
  },
  {
   "cell_type": "markdown",
   "id": "022892df-28c8-4947-876c-d0cf039de89b",
   "metadata": {},
   "source": [
    "**DATA TRANSFORMATION AND ENCODING**"
   ]
  },
  {
   "cell_type": "code",
   "execution_count": 45,
   "id": "d9a7d29f-2f92-4cc5-9a1e-87a87581b164",
   "metadata": {},
   "outputs": [],
   "source": [
    "def countsplot(category):\n",
    "  \"\"\"\n",
    "  Creates a count plot and returns a DataFrame with counts and percentages.\n",
    "\n",
    "  Args:\n",
    "      category (str): The column name for the categorical variable to plot.\n",
    "\n",
    "  Returns:\n",
    "      pandas.DataFrame: A DataFrame containing counts and percentages for each category.\n",
    "  \"\"\"\n",
    "\n",
    "  # Create count plot with dynamic title\n",
    "  sns.countplot(data = df, x = category)\n",
    "  plt.ylabel(\"Count\")\n",
    "  plt.title(f\"{category} Distribution\")\n",
    "  plt.show()\n",
    "\n",
    "  # Calculate counts and percentages\n",
    "  category_counts = df[category].value_counts()\n",
    "  category_percentages = df[category].value_counts(normalize = True)\n",
    "\n",
    "  # Combine counts and percentages into a DataFrame\n",
    "  stats_df = pd.DataFrame({\"Count\": category_counts, \"Proportion\": category_percentages})\n",
    "  stats_df[\"Count\"] = stats_df[\"Count\"].apply(\"{:,}\".format)\n",
    "  stats_df[\"Proportion\"] = stats_df[\"Proportion\"].apply(\"{:.1%}\".format)\n",
    "\n",
    "  return stats_df"
   ]
  },
  {
   "cell_type": "code",
   "execution_count": null,
   "id": "9b526fcb-33cd-419c-b371-2793f6130abf",
   "metadata": {},
   "outputs": [],
   "source": []
  },
  {
   "cell_type": "code",
   "execution_count": 47,
   "id": "e55523be-b0f8-4172-908e-8b879ba2de78",
   "metadata": {},
   "outputs": [
    {
     "data": {
      "image/png": "[encoded data removed]",
      "text/plain": [
       "<Figure size 640x480 with 1 Axes>"
      ]
     },
     "metadata": {},
     "output_type": "display_data"
    },
    {
     "data": {
      "text/html": [
       "<div>\n",
       "<style scoped>\n",
       "    .dataframe tbody tr th:only-of-type {\n",
       "        vertical-align: middle;\n",
       "    }\n",
       "\n",
       "    .dataframe tbody tr th {\n",
       "        vertical-align: top;\n",
       "    }\n",
       "\n",
       "    .dataframe thead th {\n",
       "        text-align: right;\n",
       "    }\n",
       "</style>\n",
       "<table border=\"1\" class=\"dataframe\">\n",
       "  <thead>\n",
       "    <tr style=\"text-align: right;\">\n",
       "      <th></th>\n",
       "      <th>Count</th>\n",
       "      <th>Proportion</th>\n",
       "    </tr>\n",
       "    <tr>\n",
       "      <th>Gender</th>\n",
       "      <th></th>\n",
       "      <th></th>\n",
       "    </tr>\n",
       "  </thead>\n",
       "  <tbody>\n",
       "    <tr>\n",
       "      <th>Male</th>\n",
       "      <td>234,000</td>\n",
       "      <td>82.1%</td>\n",
       "    </tr>\n",
       "    <tr>\n",
       "      <th>Female</th>\n",
       "      <td>50,858</td>\n",
       "      <td>17.9%</td>\n",
       "    </tr>\n",
       "  </tbody>\n",
       "</table>\n",
       "</div>"
      ],
      "text/plain": [
       "          Count Proportion\n",
       "Gender                    \n",
       "Male    234,000      82.1%\n",
       "Female   50,858      17.9%"
      ]
     },
     "execution_count": 47,
     "metadata": {},
     "output_type": "execute_result"
    }
   ],
   "source": [
    "countsplot(\"Gender\")"
   ]
  },
  {
   "cell_type": "code",
   "execution_count": null,
   "id": "c82653af-4ec2-4a90-bf81-f64b540d96c1",
   "metadata": {},
   "outputs": [],
   "source": []
  },
  {
   "cell_type": "code",
   "execution_count": 49,
   "id": "8311d10a-9706-46ac-9517-fa6590c7b8ff",
   "metadata": {},
   "outputs": [
    {
     "data": {
      "image/png": "[encoded data removed]",
      "text/plain": [
       "<Figure size 640x480 with 1 Axes>"
      ]
     },
     "metadata": {},
     "output_type": "display_data"
    },
    {
     "data": {
      "text/html": [
       "<div>\n",
       "<style scoped>\n",
       "    .dataframe tbody tr th:only-of-type {\n",
       "        vertical-align: middle;\n",
       "    }\n",
       "\n",
       "    .dataframe tbody tr th {\n",
       "        vertical-align: top;\n",
       "    }\n",
       "\n",
       "    .dataframe thead th {\n",
       "        text-align: right;\n",
       "    }\n",
       "</style>\n",
       "<table border=\"1\" class=\"dataframe\">\n",
       "  <thead>\n",
       "    <tr style=\"text-align: right;\">\n",
       "      <th></th>\n",
       "      <th>Count</th>\n",
       "      <th>Proportion</th>\n",
       "    </tr>\n",
       "    <tr>\n",
       "      <th>self_employed</th>\n",
       "      <th></th>\n",
       "      <th></th>\n",
       "    </tr>\n",
       "  </thead>\n",
       "  <tbody>\n",
       "    <tr>\n",
       "      <th>No</th>\n",
       "      <td>255,711</td>\n",
       "      <td>89.8%</td>\n",
       "    </tr>\n",
       "    <tr>\n",
       "      <th>Yes</th>\n",
       "      <td>29,147</td>\n",
       "      <td>10.2%</td>\n",
       "    </tr>\n",
       "  </tbody>\n",
       "</table>\n",
       "</div>"
      ],
      "text/plain": [
       "                 Count Proportion\n",
       "self_employed                    \n",
       "No             255,711      89.8%\n",
       "Yes             29,147      10.2%"
      ]
     },
     "execution_count": 49,
     "metadata": {},
     "output_type": "execute_result"
    }
   ],
   "source": [
    "countsplot(\"self_employed\")"
   ]
  },
  {
   "cell_type": "code",
   "execution_count": null,
   "id": "2ea763f7-f7ca-4d00-b62e-b320195dd33b",
   "metadata": {},
   "outputs": [],
   "source": []
  },
  {
   "cell_type": "code",
   "execution_count": 51,
   "id": "14a50c6a-31db-4787-ab19-7162e7174448",
   "metadata": {},
   "outputs": [
    {
     "data": {
      "image/png": "[encoded data removed]",
      "text/plain": [
       "<Figure size 640x480 with 1 Axes>"
      ]
     },
     "metadata": {},
     "output_type": "display_data"
    },
    {
     "data": {
      "text/html": [
       "<div>\n",
       "<style scoped>\n",
       "    .dataframe tbody tr th:only-of-type {\n",
       "        vertical-align: middle;\n",
       "    }\n",
       "\n",
       "    .dataframe tbody tr th {\n",
       "        vertical-align: top;\n",
       "    }\n",
       "\n",
       "    .dataframe thead th {\n",
       "        text-align: right;\n",
       "    }\n",
       "</style>\n",
       "<table border=\"1\" class=\"dataframe\">\n",
       "  <thead>\n",
       "    <tr style=\"text-align: right;\">\n",
       "      <th></th>\n",
       "      <th>Count</th>\n",
       "      <th>Proportion</th>\n",
       "    </tr>\n",
       "    <tr>\n",
       "      <th>family_history</th>\n",
       "      <th></th>\n",
       "      <th></th>\n",
       "    </tr>\n",
       "  </thead>\n",
       "  <tbody>\n",
       "    <tr>\n",
       "      <th>No</th>\n",
       "      <td>172,357</td>\n",
       "      <td>60.5%</td>\n",
       "    </tr>\n",
       "    <tr>\n",
       "      <th>Yes</th>\n",
       "      <td>112,501</td>\n",
       "      <td>39.5%</td>\n",
       "    </tr>\n",
       "  </tbody>\n",
       "</table>\n",
       "</div>"
      ],
      "text/plain": [
       "                  Count Proportion\n",
       "family_history                    \n",
       "No              172,357      60.5%\n",
       "Yes             112,501      39.5%"
      ]
     },
     "execution_count": 51,
     "metadata": {},
     "output_type": "execute_result"
    }
   ],
   "source": [
    "countsplot(\"family_history\")"
   ]
  },
  {
   "cell_type": "code",
   "execution_count": null,
   "id": "f6c1d22c-33ff-4f64-b39a-740626f6bfd0",
   "metadata": {},
   "outputs": [],
   "source": []
  },
  {
   "cell_type": "code",
   "execution_count": 53,
   "id": "aabb818a-3ec3-4c70-be6d-b35cd2dc1231",
   "metadata": {},
   "outputs": [
    {
     "data": {
      "image/png": "[encoded data removed]",
      "text/plain": [
       "<Figure size 640x480 with 1 Axes>"
      ]
     },
     "metadata": {},
     "output_type": "display_data"
    },
    {
     "data": {
      "text/html": [
       "<div>\n",
       "<style scoped>\n",
       "    .dataframe tbody tr th:only-of-type {\n",
       "        vertical-align: middle;\n",
       "    }\n",
       "\n",
       "    .dataframe tbody tr th {\n",
       "        vertical-align: top;\n",
       "    }\n",
       "\n",
       "    .dataframe thead th {\n",
       "        text-align: right;\n",
       "    }\n",
       "</style>\n",
       "<table border=\"1\" class=\"dataframe\">\n",
       "  <thead>\n",
       "    <tr style=\"text-align: right;\">\n",
       "      <th></th>\n",
       "      <th>Count</th>\n",
       "      <th>Proportion</th>\n",
       "    </tr>\n",
       "    <tr>\n",
       "      <th>treatment</th>\n",
       "      <th></th>\n",
       "      <th></th>\n",
       "    </tr>\n",
       "  </thead>\n",
       "  <tbody>\n",
       "    <tr>\n",
       "      <th>Yes</th>\n",
       "      <td>143,331</td>\n",
       "      <td>50.3%</td>\n",
       "    </tr>\n",
       "    <tr>\n",
       "      <th>No</th>\n",
       "      <td>141,527</td>\n",
       "      <td>49.7%</td>\n",
       "    </tr>\n",
       "  </tbody>\n",
       "</table>\n",
       "</div>"
      ],
      "text/plain": [
       "             Count Proportion\n",
       "treatment                    \n",
       "Yes        143,331      50.3%\n",
       "No         141,527      49.7%"
      ]
     },
     "execution_count": 53,
     "metadata": {},
     "output_type": "execute_result"
    }
   ],
   "source": [
    "countsplot(\"treatment\")"
   ]
  },
  {
   "cell_type": "code",
   "execution_count": null,
   "id": "960cd349-ba71-49b6-bc26-101b4f98a376",
   "metadata": {},
   "outputs": [],
   "source": []
  },
  {
   "cell_type": "code",
   "execution_count": 55,
   "id": "f6332614-1b25-4610-b08e-fe8d670f1b11",
   "metadata": {},
   "outputs": [
    {
     "data": {
      "image/png": "[encoded data removed]",
      "text/plain": [
       "<Figure size 640x480 with 1 Axes>"
      ]
     },
     "metadata": {},
     "output_type": "display_data"
    },
    {
     "data": {
      "text/html": [
       "<div>\n",
       "<style scoped>\n",
       "    .dataframe tbody tr th:only-of-type {\n",
       "        vertical-align: middle;\n",
       "    }\n",
       "\n",
       "    .dataframe tbody tr th {\n",
       "        vertical-align: top;\n",
       "    }\n",
       "\n",
       "    .dataframe thead th {\n",
       "        text-align: right;\n",
       "    }\n",
       "</style>\n",
       "<table border=\"1\" class=\"dataframe\">\n",
       "  <thead>\n",
       "    <tr style=\"text-align: right;\">\n",
       "      <th></th>\n",
       "      <th>Count</th>\n",
       "      <th>Proportion</th>\n",
       "    </tr>\n",
       "    <tr>\n",
       "      <th>Coping_Struggles</th>\n",
       "      <th></th>\n",
       "      <th></th>\n",
       "    </tr>\n",
       "  </thead>\n",
       "  <tbody>\n",
       "    <tr>\n",
       "      <th>No</th>\n",
       "      <td>150,318</td>\n",
       "      <td>52.8%</td>\n",
       "    </tr>\n",
       "    <tr>\n",
       "      <th>Yes</th>\n",
       "      <td>134,540</td>\n",
       "      <td>47.2%</td>\n",
       "    </tr>\n",
       "  </tbody>\n",
       "</table>\n",
       "</div>"
      ],
      "text/plain": [
       "                    Count Proportion\n",
       "Coping_Struggles                    \n",
       "No                150,318      52.8%\n",
       "Yes               134,540      47.2%"
      ]
     },
     "execution_count": 55,
     "metadata": {},
     "output_type": "execute_result"
    }
   ],
   "source": [
    "countsplot(\"Coping_Struggles\")"
   ]
  },
  {
   "cell_type": "code",
   "execution_count": null,
   "id": "f18b7be7-9a1c-449d-a44f-5beee3fcccc1",
   "metadata": {},
   "outputs": [],
   "source": []
  },
  {
   "cell_type": "code",
   "execution_count": 57,
   "id": "96bd62c3-bb05-4549-85c5-0d6524af9229",
   "metadata": {},
   "outputs": [],
   "source": [
    "def top_10_bar(category, x_rotation = 45):\n",
    "    \"\"\"\n",
    "    Plots a bar plot showing the distribution of a categorical variable for the top 10 categories.\n",
    "\n",
    "    Args:\n",
    "        category (str): The column name for the categorical variable to plot.\n",
    "        x_rotation (int, optional): The number of degrees to rotate the x-axis labels. Defaults to 45.\n",
    "    \"\"\"\n",
    "    # Get the top 10 categories and their counts in a DataFrame\n",
    "    top_10_df = df[category].value_counts().head(10).reset_index()\n",
    "\n",
    "    # Plotting\n",
    "    sns.barplot(data = top_10_df, x = category, y = \"count\")\n",
    "    plt.title(category)\n",
    "    plt.xticks(rotation = x_rotation)\n",
    "    plt.xlabel(category)\n",
    "    plt.ylabel(\"Count\")\n",
    "    plt.show()"
   ]
  },
  {
   "cell_type": "code",
   "execution_count": 59,
   "id": "d9b41885-39ce-496c-8900-c12afde09cc9",
   "metadata": {},
   "outputs": [
    {
     "data": {
      "image/png": "[encoded data removed]",
      "text/plain": [
       "<Figure size 640x480 with 1 Axes>"
      ]
     },
     "metadata": {},
     "output_type": "display_data"
    },
    {
     "data": {
      "image/png": "[encoded data removed]",
      "text/plain": [
       "<Figure size 640x480 with 1 Axes>"
      ]
     },
     "metadata": {},
     "output_type": "display_data"
    },
    {
     "data": {
      "image/png": "[encoded data removed]",
      "text/plain": [
       "<Figure size 640x480 with 1 Axes>"
      ]
     },
     "metadata": {},
     "output_type": "display_data"
    },
    {
     "data": {
      "image/png": "[encoded data removed]",
      "text/plain": [
       "<Figure size 640x480 with 1 Axes>"
      ]
     },
     "metadata": {},
     "output_type": "display_data"
    },
    {
     "data": {
      "image/png": "[encoded data removed]",
      "text/plain": [
       "<Figure size 640x480 with 1 Axes>"
      ]
     },
     "metadata": {},
     "output_type": "display_data"
    },
    {
     "data": {
      "image/png": "[encoded data removed]",
      "text/plain": [
       "<Figure size 640x480 with 1 Axes>"
      ]
     },
     "metadata": {},
     "output_type": "display_data"
    },
    {
     "data": {
      "image/png": "[encoded data removed]",
      "text/plain": [
       "<Figure size 640x480 with 1 Axes>"
      ]
     },
     "metadata": {},
     "output_type": "display_data"
    },
    {
     "data": {
      "image/png": "[encoded data removed]",
      "text/plain": [
       "<Figure size 640x480 with 1 Axes>"
      ]
     },
     "metadata": {},
     "output_type": "display_data"
    },
    {
     "data": {
      "image/png": "[encoded data removed]",
      "text/plain": [
       "<Figure size 640x480 with 1 Axes>"
      ]
     },
     "metadata": {},
     "output_type": "display_data"
    },
    {
     "data": {
      "image/png": "[encoded data removed]",
      "text/plain": [
       "<Figure size 640x480 with 1 Axes>"
      ]
     },
     "metadata": {},
     "output_type": "display_data"
    },
    {
     "data": {
      "image/png": "[encoded data removed]",
      "text/plain": [
       "<Figure size 640x480 with 1 Axes>"
      ]
     },
     "metadata": {},
     "output_type": "display_data"
    }
   ],
   "source": [
    "for column in df.columns:\n",
    "    if df[column].nunique()>2:\n",
    "        top_10_bar(column)"
   ]
  },
  {
   "cell_type": "code",
   "execution_count": null,
   "id": "2d9ab1b8-7698-4c5d-ba16-8762c4c3a9c8",
   "metadata": {},
   "outputs": [],
   "source": []
  },
  {
   "cell_type": "markdown",
   "id": "04200e55-6ac0-4ef5-a474-138d78be43b5",
   "metadata": {},
   "source": [
    "**# Grouping data by Gender and filtering it by Occupation and count occurrences.**"
   ]
  },
  {
   "cell_type": "code",
   "execution_count": 61,
   "id": "1db54806-58b5-4d14-8af3-b4cdffbb2c8d",
   "metadata": {},
   "outputs": [
    {
     "data": {
      "image/png": "[encoded data removed]",
      "text/plain": [
       "<Figure size 640x480 with 1 Axes>"
      ]
     },
     "metadata": {},
     "output_type": "display_data"
    },
    {
     "data": {
      "text/html": [
       "<div>\n",
       "<style scoped>\n",
       "    .dataframe tbody tr th:only-of-type {\n",
       "        vertical-align: middle;\n",
       "    }\n",
       "\n",
       "    .dataframe tbody tr th {\n",
       "        vertical-align: top;\n",
       "    }\n",
       "\n",
       "    .dataframe thead th {\n",
       "        text-align: right;\n",
       "    }\n",
       "</style>\n",
       "<table border=\"1\" class=\"dataframe\">\n",
       "  <thead>\n",
       "    <tr style=\"text-align: right;\">\n",
       "      <th></th>\n",
       "      <th>Gender</th>\n",
       "      <th>Occupation</th>\n",
       "      <th>Count</th>\n",
       "    </tr>\n",
       "  </thead>\n",
       "  <tbody>\n",
       "    <tr>\n",
       "      <th>5</th>\n",
       "      <td>Male</td>\n",
       "      <td>Housewife</td>\n",
       "      <td>53400</td>\n",
       "    </tr>\n",
       "    <tr>\n",
       "      <th>6</th>\n",
       "      <td>Male</td>\n",
       "      <td>Corporate</td>\n",
       "      <td>51000</td>\n",
       "    </tr>\n",
       "    <tr>\n",
       "      <th>7</th>\n",
       "      <td>Male</td>\n",
       "      <td>Student</td>\n",
       "      <td>48600</td>\n",
       "    </tr>\n",
       "    <tr>\n",
       "      <th>8</th>\n",
       "      <td>Male</td>\n",
       "      <td>Others</td>\n",
       "      <td>41400</td>\n",
       "    </tr>\n",
       "    <tr>\n",
       "      <th>9</th>\n",
       "      <td>Male</td>\n",
       "      <td>Business</td>\n",
       "      <td>39600</td>\n",
       "    </tr>\n",
       "    <tr>\n",
       "      <th>0</th>\n",
       "      <td>Female</td>\n",
       "      <td>Student</td>\n",
       "      <td>11564</td>\n",
       "    </tr>\n",
       "    <tr>\n",
       "      <th>1</th>\n",
       "      <td>Female</td>\n",
       "      <td>Housewife</td>\n",
       "      <td>11328</td>\n",
       "    </tr>\n",
       "    <tr>\n",
       "      <th>2</th>\n",
       "      <td>Female</td>\n",
       "      <td>Others</td>\n",
       "      <td>10030</td>\n",
       "    </tr>\n",
       "    <tr>\n",
       "      <th>3</th>\n",
       "      <td>Female</td>\n",
       "      <td>Business</td>\n",
       "      <td>9322</td>\n",
       "    </tr>\n",
       "    <tr>\n",
       "      <th>4</th>\n",
       "      <td>Female</td>\n",
       "      <td>Corporate</td>\n",
       "      <td>8614</td>\n",
       "    </tr>\n",
       "  </tbody>\n",
       "</table>\n",
       "</div>"
      ],
      "text/plain": [
       "   Gender Occupation  Count\n",
       "5    Male  Housewife  53400\n",
       "6    Male  Corporate  51000\n",
       "7    Male    Student  48600\n",
       "8    Male     Others  41400\n",
       "9    Male   Business  39600\n",
       "0  Female    Student  11564\n",
       "1  Female  Housewife  11328\n",
       "2  Female     Others  10030\n",
       "3  Female   Business   9322\n",
       "4  Female  Corporate   8614"
      ]
     },
     "execution_count": 61,
     "metadata": {},
     "output_type": "execute_result"
    }
   ],
   "source": [
    "gender_data = (\n",
    "    df\n",
    "    .groupby(\"Gender\")[\"Occupation\"]\n",
    "    .value_counts()\n",
    "    .reset_index(name = \"Count\")\n",
    "    .sort_values(by = \"Count\", ascending = False)\n",
    ")\n",
    "\n",
    "sns.barplot(data = gender_data, x = \"Occupation\", y = \"Count\", hue = \"Gender\")\n",
    "plt.title(\"Occupation by Gender\")\n",
    "plt.show()\n",
    "\n",
    "gender_data"
   ]
  },
  {
   "cell_type": "code",
   "execution_count": null,
   "id": "1fdeaa2e-999c-4501-8a00-258f5c0a8d46",
   "metadata": {},
   "outputs": [],
   "source": []
  },
  {
   "cell_type": "markdown",
   "id": "c7070aea-3d72-4bdd-a901-b23fb76bc846",
   "metadata": {},
   "source": [
    "**# Filter the Gender data to include only entries where the occupation is \"Student\".**"
   ]
  },
  {
   "cell_type": "code",
   "execution_count": 63,
   "id": "af723f10-f598-4d14-8cc9-1f9e1a80ab59",
   "metadata": {},
   "outputs": [
    {
     "data": {
      "image/png": "[encoded data removed]",
      "text/plain": [
       "<Figure size 640x480 with 1 Axes>"
      ]
     },
     "metadata": {},
     "output_type": "display_data"
    },
    {
     "name": "stderr",
     "output_type": "stream",
     "text": [
      "C:\\Users\\User\\AppData\\Local\\Temp\\ipykernel_1604\\1085236242.py:11: SettingWithCopyWarning: \n",
      "A value is trying to be set on a copy of a slice from a DataFrame.\n",
      "Try using .loc[row_indexer,col_indexer] = value instead\n",
      "\n",
      "See the caveats in the documentation: https://pandas.pydata.org/pandas-docs/stable/user_guide/indexing.html#returning-a-view-versus-a-copy\n",
      "  student_data[\"Percentage\"] = (\n"
     ]
    },
    {
     "data": {
      "text/html": [
       "<div>\n",
       "<style scoped>\n",
       "    .dataframe tbody tr th:only-of-type {\n",
       "        vertical-align: middle;\n",
       "    }\n",
       "\n",
       "    .dataframe tbody tr th {\n",
       "        vertical-align: top;\n",
       "    }\n",
       "\n",
       "    .dataframe thead th {\n",
       "        text-align: right;\n",
       "    }\n",
       "</style>\n",
       "<table border=\"1\" class=\"dataframe\">\n",
       "  <thead>\n",
       "    <tr style=\"text-align: right;\">\n",
       "      <th></th>\n",
       "      <th>Gender</th>\n",
       "      <th>Occupation</th>\n",
       "      <th>Count</th>\n",
       "      <th>Percentage</th>\n",
       "    </tr>\n",
       "  </thead>\n",
       "  <tbody>\n",
       "    <tr>\n",
       "      <th>7</th>\n",
       "      <td>Male</td>\n",
       "      <td>Student</td>\n",
       "      <td>48600</td>\n",
       "      <td>80.8</td>\n",
       "    </tr>\n",
       "    <tr>\n",
       "      <th>0</th>\n",
       "      <td>Female</td>\n",
       "      <td>Student</td>\n",
       "      <td>11564</td>\n",
       "      <td>19.2</td>\n",
       "    </tr>\n",
       "  </tbody>\n",
       "</table>\n",
       "</div>"
      ],
      "text/plain": [
       "   Gender Occupation  Count  Percentage\n",
       "7    Male    Student  48600        80.8\n",
       "0  Female    Student  11564        19.2"
      ]
     },
     "execution_count": 63,
     "metadata": {},
     "output_type": "execute_result"
    }
   ],
   "source": [
    "student_data = gender_data[gender_data[\"Occupation\"] == \"Student\"]\n",
    "\n",
    "sns.barplot(data = student_data, x = \"Occupation\", y = \"Count\", hue = \"Gender\")\n",
    "plt.title(\"Students Struggling with Mental Health\")\n",
    "plt.show()\n",
    "\n",
    "# Get the total count\n",
    "total_student_count = student_data[\"Count\"].sum() \n",
    "\n",
    "# Calculate percentages based on gender counts\n",
    "student_data[\"Percentage\"] = (\n",
    "    student_data[\"Gender\"]\n",
    "    .apply(\n",
    "        lambda gender: round((student_data.loc[student_data[\"Gender\"] == gender, \"Count\"].iloc[0] / total_student_count) * 100, 1)\n",
    "    )\n",
    ")\n",
    "\n",
    "student_data"
   ]
  },
  {
   "cell_type": "code",
   "execution_count": null,
   "id": "03a6a6aa-b16a-4ed9-ab74-50e73089c93e",
   "metadata": {},
   "outputs": [],
   "source": []
  },
  {
   "cell_type": "markdown",
   "id": "deeb351a-498c-470b-9cc3-e568871b0c16",
   "metadata": {},
   "source": [
    "**# Filter the Data to include only Indian students and count occurrences by \"Gender\".**"
   ]
  },
  {
   "cell_type": "code",
   "execution_count": 65,
   "id": "e0700f55-1aee-4225-8266-3951abf9af8d",
   "metadata": {},
   "outputs": [
    {
     "data": {
      "text/html": [
       "<div>\n",
       "<style scoped>\n",
       "    .dataframe tbody tr th:only-of-type {\n",
       "        vertical-align: middle;\n",
       "    }\n",
       "\n",
       "    .dataframe tbody tr th {\n",
       "        vertical-align: top;\n",
       "    }\n",
       "\n",
       "    .dataframe thead th {\n",
       "        text-align: right;\n",
       "    }\n",
       "</style>\n",
       "<table border=\"1\" class=\"dataframe\">\n",
       "  <thead>\n",
       "    <tr style=\"text-align: right;\">\n",
       "      <th></th>\n",
       "      <th>Gender</th>\n",
       "      <th>Occupation</th>\n",
       "      <th>Count</th>\n",
       "      <th>Percentage</th>\n",
       "    </tr>\n",
       "  </thead>\n",
       "  <tbody>\n",
       "    <tr>\n",
       "      <th>0</th>\n",
       "      <td>Female</td>\n",
       "      <td>Student</td>\n",
       "      <td>98</td>\n",
       "      <td>16.8</td>\n",
       "    </tr>\n",
       "    <tr>\n",
       "      <th>1</th>\n",
       "      <td>Male</td>\n",
       "      <td>Student</td>\n",
       "      <td>486</td>\n",
       "      <td>83.2</td>\n",
       "    </tr>\n",
       "  </tbody>\n",
       "</table>\n",
       "</div>"
      ],
      "text/plain": [
       "   Gender Occupation  Count  Percentage\n",
       "0  Female    Student     98        16.8\n",
       "1    Male    Student    486        83.2"
      ]
     },
     "execution_count": 65,
     "metadata": {},
     "output_type": "execute_result"
    }
   ],
   "source": [
    "indian_student_data = (\n",
    "    df\n",
    "    .loc[(df[\"Country\"] == \"India\") & (df[\"Occupation\"] == \"Student\")]\n",
    "    .groupby(\"Gender\")[\"Occupation\"]\n",
    "    .value_counts()\n",
    "    .reset_index(name = \"Count\")\n",
    ")\n",
    "\n",
    "# Get the total count\n",
    "total_indian_student_count = indian_student_data[\"Count\"].sum() \n",
    "\n",
    "# Calculate percentages based on gender counts\n",
    "indian_student_data[\"Percentage\"] = (\n",
    "    indian_student_data[\"Gender\"]\n",
    "    .apply(\n",
    "        lambda gender: round((indian_student_data.loc[indian_student_data[\"Gender\"] == gender, \"Count\"].iloc[0] / total_indian_student_count) * 100, 1)\n",
    "    )\n",
    ")\n",
    "\n",
    "indian_student_data"
   ]
  },
  {
   "cell_type": "markdown",
   "id": "2db6429c-3a0c-466c-bd4f-5a1326f7ad20",
   "metadata": {},
   "source": [
    "**584 students from India is struggling with mental health issue, out of 60,164 students around the world.**"
   ]
  },
  {
   "cell_type": "code",
   "execution_count": null,
   "id": "74dbe461-5b26-4880-b0bd-e613076236d2",
   "metadata": {},
   "outputs": [],
   "source": []
  },
  {
   "cell_type": "markdown",
   "id": "0e299693-eed1-4ae9-8c69-43423d26b13b",
   "metadata": {},
   "source": [
    "**# Calculate the percentage**"
   ]
  },
  {
   "cell_type": "code",
   "execution_count": 67,
   "id": "b35612b2-c6e0-425d-b7b6-11d1ed017d4b",
   "metadata": {},
   "outputs": [
    {
     "name": "stdout",
     "output_type": "stream",
     "text": [
      "The percentage of Indian students is 0.97%.\n"
     ]
    }
   ],
   "source": [
    "indian_student_count = 584\n",
    "total_student_count = 60164\n",
    "\n",
    "indian_percentage =(indian_student_count / total_student_count) * 100\n",
    "\n",
    "print(f\"The percentage of Indian students is {indian_percentage:.2f}%.\") "
   ]
  },
  {
   "cell_type": "markdown",
   "id": "1bb9bed7-a175-4416-b966-b114a38ac78d",
   "metadata": {},
   "source": [
    "**The percentage of Indian students (India) is comparatively low compared to the United States (58.4%).**"
   ]
  },
  {
   "cell_type": "code",
   "execution_count": null,
   "id": "109db073-c2a7-4255-8646-806725f2eb73",
   "metadata": {},
   "outputs": [],
   "source": []
  },
  {
   "cell_type": "markdown",
   "id": "6245c19e-e7a0-464a-84cf-fb1b93c7e415",
   "metadata": {},
   "source": [
    "# **Exploratory Data Analysis (EDA)**"
   ]
  },
  {
   "cell_type": "markdown",
   "id": "cbca25ba-8457-4635-be86-a9e479a57aee",
   "metadata": {},
   "source": [
    "**Insights Gathered Through Visualizations:**\n",
    "\n",
    "-For understanding the distribution of numerical variables.\n",
    "\n",
    "-For detecting outliers.\n",
    "\n",
    "-To examine correlations between features.\n",
    "\n",
    "-For categorical feature distribution (e.g., Gender, treatment).\n",
    "\n",
    "-To explore the relationship between categorical features and the target variable.\n",
    "\n",
    "-For assessing data density and overlap between classes.\n"
   ]
  },
  {
   "cell_type": "markdown",
   "id": "d84566a8-b02f-464f-aa74-d565af6c3bfb",
   "metadata": {},
   "source": [
    "**# Gender distribution**"
   ]
  },
  {
   "cell_type": "code",
   "execution_count": 69,
   "id": "7ee79006-396e-4b96-ba50-7f75ee188e17",
   "metadata": {},
   "outputs": [
    {
     "data": {
      "image/png": "[encoded data removed]",
      "text/plain": [
       "<Figure size 1000x500 with 1 Axes>"
      ]
     },
     "metadata": {},
     "output_type": "display_data"
    }
   ],
   "source": [
    "plt.figure(figsize=(10, 5))\n",
    "sns.countplot(data=data, x='Gender')\n",
    "plt.title('Gender Distribution')\n",
    "plt.xticks(rotation=45)\n",
    "plt.show()"
   ]
  },
  {
   "cell_type": "code",
   "execution_count": null,
   "id": "940ef392-db02-481b-8573-4abaff22c9c7",
   "metadata": {},
   "outputs": [],
   "source": []
  },
  {
   "cell_type": "markdown",
   "id": "e3b99a94-1cf3-46b5-8a92-75ab3301a2a6",
   "metadata": {},
   "source": [
    "**# Heatmap for Correlations**"
   ]
  },
  {
   "cell_type": "code",
   "execution_count": 71,
   "id": "eea9896d-05fa-41e5-a42f-6b32d4e3f0a2",
   "metadata": {},
   "outputs": [],
   "source": [
    "numeric_data = data.select_dtypes(include=['number'])"
   ]
  },
  {
   "cell_type": "markdown",
   "id": "f9270523-1a6d-4e73-b259-e1d3149c3446",
   "metadata": {},
   "source": [
    "**#Plot heatmap for correlation of numeric columns**"
   ]
  },
  {
   "cell_type": "markdown",
   "id": "257d7f0e-a39e-4581-b5b5-73c5098bd512",
   "metadata": {},
   "source": [
    "plt.figure(figsize=(12, 8))\n",
    "sns.heatmap(numeric_data.corr(), annot=True, cmap='coolwarm')\n",
    "plt.title(\"Correlation Heatmap\")\n",
    "plt.show()\n"
   ]
  },
  {
   "cell_type": "code",
   "execution_count": 73,
   "id": "aac256bf-5dbe-4783-b0d2-ae51526d5e4d",
   "metadata": {},
   "outputs": [
    {
     "name": "stdout",
     "output_type": "stream",
     "text": [
      "(292364, 0)\n",
      "Index([], dtype='object')\n"
     ]
    }
   ],
   "source": [
    "print(numeric_data.shape)\n",
    "print(numeric_data.columns)"
   ]
  },
  {
   "cell_type": "code",
   "execution_count": 75,
   "id": "fd9abe99-c0c3-4ef2-a57c-eb3723cea42a",
   "metadata": {},
   "outputs": [
    {
     "name": "stdout",
     "output_type": "stream",
     "text": [
      "Timestamp                  object\n",
      "Gender                     object\n",
      "Country                    object\n",
      "Occupation                 object\n",
      "self_employed              object\n",
      "family_history             object\n",
      "treatment                  object\n",
      "Days_Indoors               object\n",
      "Growing_Stress             object\n",
      "Changes_Habits             object\n",
      "Mental_Health_History      object\n",
      "Mood_Swings                object\n",
      "Coping_Struggles           object\n",
      "Work_Interest              object\n",
      "Social_Weakness            object\n",
      "mental_health_interview    object\n",
      "care_options               object\n",
      "dtype: object\n"
     ]
    }
   ],
   "source": [
    "print(data.dtypes)"
   ]
  },
  {
   "cell_type": "code",
   "execution_count": 77,
   "id": "63c1a8ee-f05e-4f1d-8f7d-b01a4fb6a95d",
   "metadata": {},
   "outputs": [
    {
     "data": {
      "image/png": "[encoded data removed]",
      "text/plain": [
       "<Figure size 640x480 with 1 Axes>"
      ]
     },
     "metadata": {},
     "output_type": "display_data"
    }
   ],
   "source": [
    "sns.countplot(x='Occupation', data=data)\n",
    "plt.show()"
   ]
  },
  {
   "cell_type": "markdown",
   "id": "89b2af70-f238-4f4e-9732-068e517079b8",
   "metadata": {},
   "source": [
    "**# Family history vs Treatment count plot**"
   ]
  },
  {
   "cell_type": "code",
   "execution_count": 79,
   "id": "ba2c3c27-935c-4caf-bc76-564656a7197e",
   "metadata": {},
   "outputs": [
    {
     "data": {
      "image/png": "[encoded data removed]",
      "text/plain": [
       "<Figure size 1000x500 with 1 Axes>"
      ]
     },
     "metadata": {},
     "output_type": "display_data"
    }
   ],
   "source": [
    "plt.figure(figsize=(10, 5))\n",
    "sns.countplot(data=data, x='family_history', hue='treatment')\n",
    "plt.title('Family History vs Treatment')\n",
    "plt.show()"
   ]
  },
  {
   "cell_type": "code",
   "execution_count": null,
   "id": "c256e976-73bd-4758-bd08-e4469ff5ae69",
   "metadata": {},
   "outputs": [],
   "source": []
  },
  {
   "cell_type": "markdown",
   "id": "42e79af1-cc62-4550-80a4-794a09d45f85",
   "metadata": {},
   "source": [
    "**# Countplot to analyze the distribution of each cateforical variable.**"
   ]
  },
  {
   "cell_type": "code",
   "execution_count": 81,
   "id": "9c9202c8-31bb-4923-9848-d626e31d82d9",
   "metadata": {},
   "outputs": [
    {
     "data": {
      "text/plain": [
       "<Axes: xlabel='Gender', ylabel='count'>"
      ]
     },
     "execution_count": 81,
     "metadata": {},
     "output_type": "execute_result"
    },
    {
     "data": {
      "image/png": "[encoded data removed]",
      "text/plain": [
       "<Figure size 640x480 with 1 Axes>"
      ]
     },
     "metadata": {},
     "output_type": "display_data"
    }
   ],
   "source": [
    "sns.countplot(data=df, x='Gender')\n",
    "sns.countplot(data=df, x='treatment')"
   ]
  },
  {
   "cell_type": "code",
   "execution_count": null,
   "id": "c21c8548-f8cc-464a-84c3-642056a921e7",
   "metadata": {},
   "outputs": [],
   "source": []
  },
  {
   "cell_type": "markdown",
   "id": "01443b80-92b9-4235-81e6-7ade3842940b",
   "metadata": {},
   "source": [
    "**# Bar Plots**"
   ]
  },
  {
   "cell_type": "code",
   "execution_count": 83,
   "id": "b2f1cdec-574c-4168-b608-438885f21533",
   "metadata": {},
   "outputs": [
    {
     "data": {
      "image/png": "[encoded data removed]",
      "text/plain": [
       "<Figure size 640x480 with 1 Axes>"
      ]
     },
     "metadata": {},
     "output_type": "display_data"
    }
   ],
   "source": [
    "sns.barplot(data=df, x='Occupation', y='treatment', estimator=lambda x: (x == 'yes').mean())\n",
    "plt.title('Proportion of Treatment by Occupation')\n",
    "plt.ylabel('Proportion')\n",
    "plt.show()"
   ]
  },
  {
   "cell_type": "code",
   "execution_count": null,
   "id": "36229a0c-8e1e-4668-98de-810495f0dff1",
   "metadata": {},
   "outputs": [],
   "source": []
  },
  {
   "cell_type": "markdown",
   "id": "5ea91d3e-6425-4fec-aaae-ca05bf12b451",
   "metadata": {},
   "source": [
    "## **FEATURE ENGINEERING**"
   ]
  },
  {
   "cell_type": "markdown",
   "id": "0d216079-4647-4f6e-9c7b-94536914512c",
   "metadata": {},
   "source": [
    "**Create a Label Encoder object**"
   ]
  },
  {
   "cell_type": "code",
   "execution_count": 85,
   "id": "e246e5e5-488a-4df3-88ab-9f9387d8bedb",
   "metadata": {},
   "outputs": [
    {
     "data": {
      "text/html": [
       "<div>\n",
       "<style scoped>\n",
       "    .dataframe tbody tr th:only-of-type {\n",
       "        vertical-align: middle;\n",
       "    }\n",
       "\n",
       "    .dataframe tbody tr th {\n",
       "        vertical-align: top;\n",
       "    }\n",
       "\n",
       "    .dataframe thead th {\n",
       "        text-align: right;\n",
       "    }\n",
       "</style>\n",
       "<table border=\"1\" class=\"dataframe\">\n",
       "  <thead>\n",
       "    <tr style=\"text-align: right;\">\n",
       "      <th></th>\n",
       "      <th>Gender</th>\n",
       "      <th>Country</th>\n",
       "      <th>Occupation</th>\n",
       "      <th>self_employed</th>\n",
       "      <th>family_history</th>\n",
       "      <th>treatment</th>\n",
       "      <th>Days_Indoors</th>\n",
       "      <th>Growing_Stress</th>\n",
       "      <th>Changes_Habits</th>\n",
       "      <th>Mental_Health_History</th>\n",
       "      <th>Mood_Swings</th>\n",
       "      <th>Coping_Struggles</th>\n",
       "      <th>Work_Interest</th>\n",
       "      <th>Social_Weakness</th>\n",
       "      <th>mental_health_interview</th>\n",
       "      <th>care_options</th>\n",
       "    </tr>\n",
       "  </thead>\n",
       "  <tbody>\n",
       "    <tr>\n",
       "      <th>3</th>\n",
       "      <td>Female</td>\n",
       "      <td>United States</td>\n",
       "      <td>Corporate</td>\n",
       "      <td>0</td>\n",
       "      <td>1</td>\n",
       "      <td>1</td>\n",
       "      <td>0</td>\n",
       "      <td>2</td>\n",
       "      <td>1</td>\n",
       "      <td>2</td>\n",
       "      <td>2</td>\n",
       "      <td>0</td>\n",
       "      <td>1</td>\n",
       "      <td>2</td>\n",
       "      <td>0</td>\n",
       "      <td>Yes</td>\n",
       "    </tr>\n",
       "    <tr>\n",
       "      <th>4</th>\n",
       "      <td>Female</td>\n",
       "      <td>United States</td>\n",
       "      <td>Corporate</td>\n",
       "      <td>0</td>\n",
       "      <td>1</td>\n",
       "      <td>1</td>\n",
       "      <td>0</td>\n",
       "      <td>2</td>\n",
       "      <td>1</td>\n",
       "      <td>2</td>\n",
       "      <td>2</td>\n",
       "      <td>0</td>\n",
       "      <td>1</td>\n",
       "      <td>2</td>\n",
       "      <td>1</td>\n",
       "      <td>Yes</td>\n",
       "    </tr>\n",
       "    <tr>\n",
       "      <th>5</th>\n",
       "      <td>Female</td>\n",
       "      <td>Poland</td>\n",
       "      <td>Corporate</td>\n",
       "      <td>0</td>\n",
       "      <td>0</td>\n",
       "      <td>1</td>\n",
       "      <td>0</td>\n",
       "      <td>2</td>\n",
       "      <td>1</td>\n",
       "      <td>2</td>\n",
       "      <td>2</td>\n",
       "      <td>0</td>\n",
       "      <td>1</td>\n",
       "      <td>2</td>\n",
       "      <td>0</td>\n",
       "      <td>Not sure</td>\n",
       "    </tr>\n",
       "    <tr>\n",
       "      <th>6</th>\n",
       "      <td>Female</td>\n",
       "      <td>Australia</td>\n",
       "      <td>Corporate</td>\n",
       "      <td>0</td>\n",
       "      <td>1</td>\n",
       "      <td>1</td>\n",
       "      <td>0</td>\n",
       "      <td>2</td>\n",
       "      <td>1</td>\n",
       "      <td>2</td>\n",
       "      <td>2</td>\n",
       "      <td>0</td>\n",
       "      <td>1</td>\n",
       "      <td>2</td>\n",
       "      <td>1</td>\n",
       "      <td>Not sure</td>\n",
       "    </tr>\n",
       "    <tr>\n",
       "      <th>7</th>\n",
       "      <td>Female</td>\n",
       "      <td>United States</td>\n",
       "      <td>Corporate</td>\n",
       "      <td>0</td>\n",
       "      <td>0</td>\n",
       "      <td>0</td>\n",
       "      <td>0</td>\n",
       "      <td>2</td>\n",
       "      <td>1</td>\n",
       "      <td>2</td>\n",
       "      <td>2</td>\n",
       "      <td>0</td>\n",
       "      <td>1</td>\n",
       "      <td>2</td>\n",
       "      <td>1</td>\n",
       "      <td>No</td>\n",
       "    </tr>\n",
       "    <tr>\n",
       "      <th>...</th>\n",
       "      <td>...</td>\n",
       "      <td>...</td>\n",
       "      <td>...</td>\n",
       "      <td>...</td>\n",
       "      <td>...</td>\n",
       "      <td>...</td>\n",
       "      <td>...</td>\n",
       "      <td>...</td>\n",
       "      <td>...</td>\n",
       "      <td>...</td>\n",
       "      <td>...</td>\n",
       "      <td>...</td>\n",
       "      <td>...</td>\n",
       "      <td>...</td>\n",
       "      <td>...</td>\n",
       "      <td>...</td>\n",
       "    </tr>\n",
       "    <tr>\n",
       "      <th>292359</th>\n",
       "      <td>Male</td>\n",
       "      <td>United States</td>\n",
       "      <td>Business</td>\n",
       "      <td>1</td>\n",
       "      <td>1</td>\n",
       "      <td>1</td>\n",
       "      <td>1</td>\n",
       "      <td>1</td>\n",
       "      <td>0</td>\n",
       "      <td>1</td>\n",
       "      <td>1</td>\n",
       "      <td>1</td>\n",
       "      <td>1</td>\n",
       "      <td>0</td>\n",
       "      <td>0</td>\n",
       "      <td>Not sure</td>\n",
       "    </tr>\n",
       "    <tr>\n",
       "      <th>292360</th>\n",
       "      <td>Male</td>\n",
       "      <td>South Africa</td>\n",
       "      <td>Business</td>\n",
       "      <td>0</td>\n",
       "      <td>1</td>\n",
       "      <td>1</td>\n",
       "      <td>1</td>\n",
       "      <td>1</td>\n",
       "      <td>0</td>\n",
       "      <td>1</td>\n",
       "      <td>1</td>\n",
       "      <td>1</td>\n",
       "      <td>1</td>\n",
       "      <td>0</td>\n",
       "      <td>1</td>\n",
       "      <td>Yes</td>\n",
       "    </tr>\n",
       "    <tr>\n",
       "      <th>292361</th>\n",
       "      <td>Male</td>\n",
       "      <td>United States</td>\n",
       "      <td>Business</td>\n",
       "      <td>0</td>\n",
       "      <td>1</td>\n",
       "      <td>0</td>\n",
       "      <td>1</td>\n",
       "      <td>1</td>\n",
       "      <td>0</td>\n",
       "      <td>1</td>\n",
       "      <td>1</td>\n",
       "      <td>1</td>\n",
       "      <td>1</td>\n",
       "      <td>0</td>\n",
       "      <td>1</td>\n",
       "      <td>No</td>\n",
       "    </tr>\n",
       "    <tr>\n",
       "      <th>292362</th>\n",
       "      <td>Male</td>\n",
       "      <td>United States</td>\n",
       "      <td>Business</td>\n",
       "      <td>0</td>\n",
       "      <td>1</td>\n",
       "      <td>1</td>\n",
       "      <td>1</td>\n",
       "      <td>1</td>\n",
       "      <td>0</td>\n",
       "      <td>1</td>\n",
       "      <td>1</td>\n",
       "      <td>1</td>\n",
       "      <td>1</td>\n",
       "      <td>0</td>\n",
       "      <td>1</td>\n",
       "      <td>Yes</td>\n",
       "    </tr>\n",
       "    <tr>\n",
       "      <th>292363</th>\n",
       "      <td>Male</td>\n",
       "      <td>United States</td>\n",
       "      <td>Business</td>\n",
       "      <td>0</td>\n",
       "      <td>1</td>\n",
       "      <td>1</td>\n",
       "      <td>1</td>\n",
       "      <td>1</td>\n",
       "      <td>0</td>\n",
       "      <td>1</td>\n",
       "      <td>1</td>\n",
       "      <td>1</td>\n",
       "      <td>1</td>\n",
       "      <td>0</td>\n",
       "      <td>1</td>\n",
       "      <td>Yes</td>\n",
       "    </tr>\n",
       "  </tbody>\n",
       "</table>\n",
       "<p>284858 rows × 16 columns</p>\n",
       "</div>"
      ],
      "text/plain": [
       "        Gender        Country Occupation  self_employed  family_history  \\\n",
       "3       Female  United States  Corporate              0               1   \n",
       "4       Female  United States  Corporate              0               1   \n",
       "5       Female         Poland  Corporate              0               0   \n",
       "6       Female      Australia  Corporate              0               1   \n",
       "7       Female  United States  Corporate              0               0   \n",
       "...        ...            ...        ...            ...             ...   \n",
       "292359    Male  United States   Business              1               1   \n",
       "292360    Male   South Africa   Business              0               1   \n",
       "292361    Male  United States   Business              0               1   \n",
       "292362    Male  United States   Business              0               1   \n",
       "292363    Male  United States   Business              0               1   \n",
       "\n",
       "        treatment  Days_Indoors  Growing_Stress  Changes_Habits  \\\n",
       "3               1             0               2               1   \n",
       "4               1             0               2               1   \n",
       "5               1             0               2               1   \n",
       "6               1             0               2               1   \n",
       "7               0             0               2               1   \n",
       "...           ...           ...             ...             ...   \n",
       "292359          1             1               1               0   \n",
       "292360          1             1               1               0   \n",
       "292361          0             1               1               0   \n",
       "292362          1             1               1               0   \n",
       "292363          1             1               1               0   \n",
       "\n",
       "        Mental_Health_History  Mood_Swings  Coping_Struggles  Work_Interest  \\\n",
       "3                           2            2                 0              1   \n",
       "4                           2            2                 0              1   \n",
       "5                           2            2                 0              1   \n",
       "6                           2            2                 0              1   \n",
       "7                           2            2                 0              1   \n",
       "...                       ...          ...               ...            ...   \n",
       "292359                      1            1                 1              1   \n",
       "292360                      1            1                 1              1   \n",
       "292361                      1            1                 1              1   \n",
       "292362                      1            1                 1              1   \n",
       "292363                      1            1                 1              1   \n",
       "\n",
       "        Social_Weakness  mental_health_interview care_options  \n",
       "3                     2                        0          Yes  \n",
       "4                     2                        1          Yes  \n",
       "5                     2                        0     Not sure  \n",
       "6                     2                        1     Not sure  \n",
       "7                     2                        1           No  \n",
       "...                 ...                      ...          ...  \n",
       "292359                0                        0     Not sure  \n",
       "292360                0                        1          Yes  \n",
       "292361                0                        1           No  \n",
       "292362                0                        1          Yes  \n",
       "292363                0                        1          Yes  \n",
       "\n",
       "[284858 rows x 16 columns]"
      ]
     },
     "execution_count": 85,
     "metadata": {},
     "output_type": "execute_result"
    }
   ],
   "source": [
    "# Initialize the encoder\n",
    "encoder = LabelEncoder()\n",
    "\n",
    "# List of columns to encode\n",
    "columns_to_encode = ['self_employed','family_history','treatment','Days_Indoors','Growing_Stress', 'Changes_Habits', 'Mental_Health_History', 'Mood_Swings', 'Coping_Struggles', 'Work_Interest', 'Social_Weakness', 'mental_health_interview']\n",
    "\n",
    "# Applying LabelEncoder to each column\n",
    "for column in columns_to_encode:\n",
    "    df[column] = encoder.fit_transform(df[column])\n",
    "df"
   ]
  },
  {
   "cell_type": "code",
   "execution_count": 87,
   "id": "a1182e63-4b8f-4d3f-81c0-95750d203c11",
   "metadata": {},
   "outputs": [
    {
     "data": {
      "text/plain": [
       "Gender                     object\n",
       "Country                    object\n",
       "Occupation                 object\n",
       "self_employed               int32\n",
       "family_history              int32\n",
       "treatment                   int32\n",
       "Days_Indoors                int32\n",
       "Growing_Stress              int32\n",
       "Changes_Habits              int32\n",
       "Mental_Health_History       int32\n",
       "Mood_Swings                 int32\n",
       "Coping_Struggles            int32\n",
       "Work_Interest               int32\n",
       "Social_Weakness             int32\n",
       "mental_health_interview     int32\n",
       "care_options               object\n",
       "dtype: object"
      ]
     },
     "execution_count": 87,
     "metadata": {},
     "output_type": "execute_result"
    }
   ],
   "source": [
    "df.dtypes"
   ]
  },
  {
   "cell_type": "code",
   "execution_count": 89,
   "id": "1a4946c3-7b96-471f-bc00-c21690796ab3",
   "metadata": {},
   "outputs": [
    {
     "data": {
      "text/plain": [
       "Index(['Gender', 'Country', 'Occupation', 'care_options'], dtype='object')"
      ]
     },
     "execution_count": 89,
     "metadata": {},
     "output_type": "execute_result"
    }
   ],
   "source": [
    "cat_col = df.select_dtypes(include=['object']).columns\n",
    "cat_col"
   ]
  },
  {
   "cell_type": "code",
   "execution_count": 91,
   "id": "26d1a0eb-97c3-4ff8-890d-d5a581b988db",
   "metadata": {},
   "outputs": [
    {
     "data": {
      "text/plain": [
       "Gender                     object\n",
       "Country                    object\n",
       "Occupation                 object\n",
       "self_employed               int32\n",
       "family_history              int32\n",
       "treatment                   int32\n",
       "Days_Indoors                int32\n",
       "Growing_Stress              int32\n",
       "Changes_Habits              int32\n",
       "Mental_Health_History       int32\n",
       "Mood_Swings                 int32\n",
       "Coping_Struggles            int32\n",
       "Work_Interest               int32\n",
       "Social_Weakness             int32\n",
       "mental_health_interview     int32\n",
       "care_options               object\n",
       "dtype: object"
      ]
     },
     "execution_count": 91,
     "metadata": {},
     "output_type": "execute_result"
    }
   ],
   "source": [
    "df.dtypes"
   ]
  },
  {
   "cell_type": "code",
   "execution_count": null,
   "id": "94b30189-4c6a-40a7-8fbd-f0f9be929a17",
   "metadata": {},
   "outputs": [],
   "source": []
  },
  {
   "cell_type": "markdown",
   "id": "af929fef-7814-4c0c-abb3-381544aebd6d",
   "metadata": {},
   "source": [
    "**One-Hot Encoding**"
   ]
  },
  {
   "cell_type": "code",
   "execution_count": 93,
   "id": "5f08a14f-6c5a-4259-a400-cfdf0d1e6f50",
   "metadata": {},
   "outputs": [
    {
     "data": {
      "text/html": [
       "<div>\n",
       "<style scoped>\n",
       "    .dataframe tbody tr th:only-of-type {\n",
       "        vertical-align: middle;\n",
       "    }\n",
       "\n",
       "    .dataframe tbody tr th {\n",
       "        vertical-align: top;\n",
       "    }\n",
       "\n",
       "    .dataframe thead th {\n",
       "        text-align: right;\n",
       "    }\n",
       "</style>\n",
       "<table border=\"1\" class=\"dataframe\">\n",
       "  <thead>\n",
       "    <tr style=\"text-align: right;\">\n",
       "      <th></th>\n",
       "      <th>self_employed</th>\n",
       "      <th>family_history</th>\n",
       "      <th>treatment</th>\n",
       "      <th>Days_Indoors</th>\n",
       "      <th>Growing_Stress</th>\n",
       "      <th>Changes_Habits</th>\n",
       "      <th>Mental_Health_History</th>\n",
       "      <th>Mood_Swings</th>\n",
       "      <th>Coping_Struggles</th>\n",
       "      <th>Work_Interest</th>\n",
       "      <th>...</th>\n",
       "      <th>Country_Switzerland</th>\n",
       "      <th>Country_Thailand</th>\n",
       "      <th>Country_United Kingdom</th>\n",
       "      <th>Country_United States</th>\n",
       "      <th>Occupation_Corporate</th>\n",
       "      <th>Occupation_Housewife</th>\n",
       "      <th>Occupation_Others</th>\n",
       "      <th>Occupation_Student</th>\n",
       "      <th>care_options_Not sure</th>\n",
       "      <th>care_options_Yes</th>\n",
       "    </tr>\n",
       "  </thead>\n",
       "  <tbody>\n",
       "    <tr>\n",
       "      <th>3</th>\n",
       "      <td>0</td>\n",
       "      <td>1</td>\n",
       "      <td>1</td>\n",
       "      <td>0</td>\n",
       "      <td>2</td>\n",
       "      <td>1</td>\n",
       "      <td>2</td>\n",
       "      <td>2</td>\n",
       "      <td>0</td>\n",
       "      <td>1</td>\n",
       "      <td>...</td>\n",
       "      <td>False</td>\n",
       "      <td>False</td>\n",
       "      <td>False</td>\n",
       "      <td>True</td>\n",
       "      <td>True</td>\n",
       "      <td>False</td>\n",
       "      <td>False</td>\n",
       "      <td>False</td>\n",
       "      <td>False</td>\n",
       "      <td>True</td>\n",
       "    </tr>\n",
       "    <tr>\n",
       "      <th>4</th>\n",
       "      <td>0</td>\n",
       "      <td>1</td>\n",
       "      <td>1</td>\n",
       "      <td>0</td>\n",
       "      <td>2</td>\n",
       "      <td>1</td>\n",
       "      <td>2</td>\n",
       "      <td>2</td>\n",
       "      <td>0</td>\n",
       "      <td>1</td>\n",
       "      <td>...</td>\n",
       "      <td>False</td>\n",
       "      <td>False</td>\n",
       "      <td>False</td>\n",
       "      <td>True</td>\n",
       "      <td>True</td>\n",
       "      <td>False</td>\n",
       "      <td>False</td>\n",
       "      <td>False</td>\n",
       "      <td>False</td>\n",
       "      <td>True</td>\n",
       "    </tr>\n",
       "    <tr>\n",
       "      <th>5</th>\n",
       "      <td>0</td>\n",
       "      <td>0</td>\n",
       "      <td>1</td>\n",
       "      <td>0</td>\n",
       "      <td>2</td>\n",
       "      <td>1</td>\n",
       "      <td>2</td>\n",
       "      <td>2</td>\n",
       "      <td>0</td>\n",
       "      <td>1</td>\n",
       "      <td>...</td>\n",
       "      <td>False</td>\n",
       "      <td>False</td>\n",
       "      <td>False</td>\n",
       "      <td>False</td>\n",
       "      <td>True</td>\n",
       "      <td>False</td>\n",
       "      <td>False</td>\n",
       "      <td>False</td>\n",
       "      <td>True</td>\n",
       "      <td>False</td>\n",
       "    </tr>\n",
       "    <tr>\n",
       "      <th>6</th>\n",
       "      <td>0</td>\n",
       "      <td>1</td>\n",
       "      <td>1</td>\n",
       "      <td>0</td>\n",
       "      <td>2</td>\n",
       "      <td>1</td>\n",
       "      <td>2</td>\n",
       "      <td>2</td>\n",
       "      <td>0</td>\n",
       "      <td>1</td>\n",
       "      <td>...</td>\n",
       "      <td>False</td>\n",
       "      <td>False</td>\n",
       "      <td>False</td>\n",
       "      <td>False</td>\n",
       "      <td>True</td>\n",
       "      <td>False</td>\n",
       "      <td>False</td>\n",
       "      <td>False</td>\n",
       "      <td>True</td>\n",
       "      <td>False</td>\n",
       "    </tr>\n",
       "    <tr>\n",
       "      <th>7</th>\n",
       "      <td>0</td>\n",
       "      <td>0</td>\n",
       "      <td>0</td>\n",
       "      <td>0</td>\n",
       "      <td>2</td>\n",
       "      <td>1</td>\n",
       "      <td>2</td>\n",
       "      <td>2</td>\n",
       "      <td>0</td>\n",
       "      <td>1</td>\n",
       "      <td>...</td>\n",
       "      <td>False</td>\n",
       "      <td>False</td>\n",
       "      <td>False</td>\n",
       "      <td>True</td>\n",
       "      <td>True</td>\n",
       "      <td>False</td>\n",
       "      <td>False</td>\n",
       "      <td>False</td>\n",
       "      <td>False</td>\n",
       "      <td>False</td>\n",
       "    </tr>\n",
       "  </tbody>\n",
       "</table>\n",
       "<p>5 rows × 53 columns</p>\n",
       "</div>"
      ],
      "text/plain": [
       "   self_employed  family_history  treatment  Days_Indoors  Growing_Stress  \\\n",
       "3              0               1          1             0               2   \n",
       "4              0               1          1             0               2   \n",
       "5              0               0          1             0               2   \n",
       "6              0               1          1             0               2   \n",
       "7              0               0          0             0               2   \n",
       "\n",
       "   Changes_Habits  Mental_Health_History  Mood_Swings  Coping_Struggles  \\\n",
       "3               1                      2            2                 0   \n",
       "4               1                      2            2                 0   \n",
       "5               1                      2            2                 0   \n",
       "6               1                      2            2                 0   \n",
       "7               1                      2            2                 0   \n",
       "\n",
       "   Work_Interest  ...  Country_Switzerland  Country_Thailand  \\\n",
       "3              1  ...                False             False   \n",
       "4              1  ...                False             False   \n",
       "5              1  ...                False             False   \n",
       "6              1  ...                False             False   \n",
       "7              1  ...                False             False   \n",
       "\n",
       "   Country_United Kingdom  Country_United States  Occupation_Corporate  \\\n",
       "3                   False                   True                  True   \n",
       "4                   False                   True                  True   \n",
       "5                   False                  False                  True   \n",
       "6                   False                  False                  True   \n",
       "7                   False                   True                  True   \n",
       "\n",
       "   Occupation_Housewife  Occupation_Others  Occupation_Student  \\\n",
       "3                 False              False               False   \n",
       "4                 False              False               False   \n",
       "5                 False              False               False   \n",
       "6                 False              False               False   \n",
       "7                 False              False               False   \n",
       "\n",
       "   care_options_Not sure  care_options_Yes  \n",
       "3                  False              True  \n",
       "4                  False              True  \n",
       "5                   True             False  \n",
       "6                   True             False  \n",
       "7                  False             False  \n",
       "\n",
       "[5 rows x 53 columns]"
      ]
     },
     "execution_count": 93,
     "metadata": {},
     "output_type": "execute_result"
    }
   ],
   "source": [
    "# List of categorical columns (those of type 'object')\n",
    "categorical_columns = ['Gender', 'Country', 'Occupation', 'care_options']\n",
    "\n",
    "# Apply get_dummies to these categorical columns\n",
    "df_encoded = pd.get_dummies(df, columns=categorical_columns, drop_first=True)\n",
    "\n",
    "# Now df_encoded contains the encoded columns\n",
    "df_encoded.head()\n"
   ]
  },
  {
   "cell_type": "code",
   "execution_count": 95,
   "id": "b3d52920-7da6-45e1-8a77-2413ac3ccb2f",
   "metadata": {},
   "outputs": [],
   "source": [
    "df_encoded = df_encoded.astype(int)"
   ]
  },
  {
   "cell_type": "code",
   "execution_count": 97,
   "id": "ae31968d-a852-4ea6-9b0a-c699250d0caa",
   "metadata": {},
   "outputs": [
    {
     "data": {
      "text/html": [
       "<div>\n",
       "<style scoped>\n",
       "    .dataframe tbody tr th:only-of-type {\n",
       "        vertical-align: middle;\n",
       "    }\n",
       "\n",
       "    .dataframe tbody tr th {\n",
       "        vertical-align: top;\n",
       "    }\n",
       "\n",
       "    .dataframe thead th {\n",
       "        text-align: right;\n",
       "    }\n",
       "</style>\n",
       "<table border=\"1\" class=\"dataframe\">\n",
       "  <thead>\n",
       "    <tr style=\"text-align: right;\">\n",
       "      <th></th>\n",
       "      <th>self_employed</th>\n",
       "      <th>family_history</th>\n",
       "      <th>treatment</th>\n",
       "      <th>Days_Indoors</th>\n",
       "      <th>Growing_Stress</th>\n",
       "      <th>Changes_Habits</th>\n",
       "      <th>Mental_Health_History</th>\n",
       "      <th>Mood_Swings</th>\n",
       "      <th>Coping_Struggles</th>\n",
       "      <th>Work_Interest</th>\n",
       "      <th>...</th>\n",
       "      <th>Country_Switzerland</th>\n",
       "      <th>Country_Thailand</th>\n",
       "      <th>Country_United Kingdom</th>\n",
       "      <th>Country_United States</th>\n",
       "      <th>Occupation_Corporate</th>\n",
       "      <th>Occupation_Housewife</th>\n",
       "      <th>Occupation_Others</th>\n",
       "      <th>Occupation_Student</th>\n",
       "      <th>care_options_Not sure</th>\n",
       "      <th>care_options_Yes</th>\n",
       "    </tr>\n",
       "  </thead>\n",
       "  <tbody>\n",
       "    <tr>\n",
       "      <th>3</th>\n",
       "      <td>0</td>\n",
       "      <td>1</td>\n",
       "      <td>1</td>\n",
       "      <td>0</td>\n",
       "      <td>2</td>\n",
       "      <td>1</td>\n",
       "      <td>2</td>\n",
       "      <td>2</td>\n",
       "      <td>0</td>\n",
       "      <td>1</td>\n",
       "      <td>...</td>\n",
       "      <td>0</td>\n",
       "      <td>0</td>\n",
       "      <td>0</td>\n",
       "      <td>1</td>\n",
       "      <td>1</td>\n",
       "      <td>0</td>\n",
       "      <td>0</td>\n",
       "      <td>0</td>\n",
       "      <td>0</td>\n",
       "      <td>1</td>\n",
       "    </tr>\n",
       "    <tr>\n",
       "      <th>4</th>\n",
       "      <td>0</td>\n",
       "      <td>1</td>\n",
       "      <td>1</td>\n",
       "      <td>0</td>\n",
       "      <td>2</td>\n",
       "      <td>1</td>\n",
       "      <td>2</td>\n",
       "      <td>2</td>\n",
       "      <td>0</td>\n",
       "      <td>1</td>\n",
       "      <td>...</td>\n",
       "      <td>0</td>\n",
       "      <td>0</td>\n",
       "      <td>0</td>\n",
       "      <td>1</td>\n",
       "      <td>1</td>\n",
       "      <td>0</td>\n",
       "      <td>0</td>\n",
       "      <td>0</td>\n",
       "      <td>0</td>\n",
       "      <td>1</td>\n",
       "    </tr>\n",
       "    <tr>\n",
       "      <th>5</th>\n",
       "      <td>0</td>\n",
       "      <td>0</td>\n",
       "      <td>1</td>\n",
       "      <td>0</td>\n",
       "      <td>2</td>\n",
       "      <td>1</td>\n",
       "      <td>2</td>\n",
       "      <td>2</td>\n",
       "      <td>0</td>\n",
       "      <td>1</td>\n",
       "      <td>...</td>\n",
       "      <td>0</td>\n",
       "      <td>0</td>\n",
       "      <td>0</td>\n",
       "      <td>0</td>\n",
       "      <td>1</td>\n",
       "      <td>0</td>\n",
       "      <td>0</td>\n",
       "      <td>0</td>\n",
       "      <td>1</td>\n",
       "      <td>0</td>\n",
       "    </tr>\n",
       "    <tr>\n",
       "      <th>6</th>\n",
       "      <td>0</td>\n",
       "      <td>1</td>\n",
       "      <td>1</td>\n",
       "      <td>0</td>\n",
       "      <td>2</td>\n",
       "      <td>1</td>\n",
       "      <td>2</td>\n",
       "      <td>2</td>\n",
       "      <td>0</td>\n",
       "      <td>1</td>\n",
       "      <td>...</td>\n",
       "      <td>0</td>\n",
       "      <td>0</td>\n",
       "      <td>0</td>\n",
       "      <td>0</td>\n",
       "      <td>1</td>\n",
       "      <td>0</td>\n",
       "      <td>0</td>\n",
       "      <td>0</td>\n",
       "      <td>1</td>\n",
       "      <td>0</td>\n",
       "    </tr>\n",
       "    <tr>\n",
       "      <th>7</th>\n",
       "      <td>0</td>\n",
       "      <td>0</td>\n",
       "      <td>0</td>\n",
       "      <td>0</td>\n",
       "      <td>2</td>\n",
       "      <td>1</td>\n",
       "      <td>2</td>\n",
       "      <td>2</td>\n",
       "      <td>0</td>\n",
       "      <td>1</td>\n",
       "      <td>...</td>\n",
       "      <td>0</td>\n",
       "      <td>0</td>\n",
       "      <td>0</td>\n",
       "      <td>1</td>\n",
       "      <td>1</td>\n",
       "      <td>0</td>\n",
       "      <td>0</td>\n",
       "      <td>0</td>\n",
       "      <td>0</td>\n",
       "      <td>0</td>\n",
       "    </tr>\n",
       "  </tbody>\n",
       "</table>\n",
       "<p>5 rows × 53 columns</p>\n",
       "</div>"
      ],
      "text/plain": [
       "   self_employed  family_history  treatment  Days_Indoors  Growing_Stress  \\\n",
       "3              0               1          1             0               2   \n",
       "4              0               1          1             0               2   \n",
       "5              0               0          1             0               2   \n",
       "6              0               1          1             0               2   \n",
       "7              0               0          0             0               2   \n",
       "\n",
       "   Changes_Habits  Mental_Health_History  Mood_Swings  Coping_Struggles  \\\n",
       "3               1                      2            2                 0   \n",
       "4               1                      2            2                 0   \n",
       "5               1                      2            2                 0   \n",
       "6               1                      2            2                 0   \n",
       "7               1                      2            2                 0   \n",
       "\n",
       "   Work_Interest  ...  Country_Switzerland  Country_Thailand  \\\n",
       "3              1  ...                    0                 0   \n",
       "4              1  ...                    0                 0   \n",
       "5              1  ...                    0                 0   \n",
       "6              1  ...                    0                 0   \n",
       "7              1  ...                    0                 0   \n",
       "\n",
       "   Country_United Kingdom  Country_United States  Occupation_Corporate  \\\n",
       "3                       0                      1                     1   \n",
       "4                       0                      1                     1   \n",
       "5                       0                      0                     1   \n",
       "6                       0                      0                     1   \n",
       "7                       0                      1                     1   \n",
       "\n",
       "   Occupation_Housewife  Occupation_Others  Occupation_Student  \\\n",
       "3                     0                  0                   0   \n",
       "4                     0                  0                   0   \n",
       "5                     0                  0                   0   \n",
       "6                     0                  0                   0   \n",
       "7                     0                  0                   0   \n",
       "\n",
       "   care_options_Not sure  care_options_Yes  \n",
       "3                      0                 1  \n",
       "4                      0                 1  \n",
       "5                      1                 0  \n",
       "6                      1                 0  \n",
       "7                      0                 0  \n",
       "\n",
       "[5 rows x 53 columns]"
      ]
     },
     "execution_count": 97,
     "metadata": {},
     "output_type": "execute_result"
    }
   ],
   "source": [
    "df_encoded.head()"
   ]
  },
  {
   "cell_type": "code",
   "execution_count": 99,
   "id": "439a630e-5a52-449a-82f4-0cd4b98f4935",
   "metadata": {},
   "outputs": [
    {
     "data": {
      "text/plain": [
       "(284858, 53)"
      ]
     },
     "execution_count": 99,
     "metadata": {},
     "output_type": "execute_result"
    }
   ],
   "source": [
    "df_encoded.shape"
   ]
  },
  {
   "cell_type": "code",
   "execution_count": 101,
   "id": "f14347ed-3712-48c2-bb14-50d0d3070b21",
   "metadata": {},
   "outputs": [
    {
     "data": {
      "text/plain": [
       "self_employed                     int32\n",
       "family_history                    int32\n",
       "treatment                         int32\n",
       "Days_Indoors                      int32\n",
       "Growing_Stress                    int32\n",
       "Changes_Habits                    int32\n",
       "Mental_Health_History             int32\n",
       "Mood_Swings                       int32\n",
       "Coping_Struggles                  int32\n",
       "Work_Interest                     int32\n",
       "Social_Weakness                   int32\n",
       "mental_health_interview           int32\n",
       "Gender_Male                       int32\n",
       "Country_Belgium                   int32\n",
       "Country_Bosnia and Herzegovina    int32\n",
       "Country_Brazil                    int32\n",
       "Country_Canada                    int32\n",
       "Country_Colombia                  int32\n",
       "Country_Costa Rica                int32\n",
       "Country_Croatia                   int32\n",
       "Country_Czech Republic            int32\n",
       "Country_Denmark                   int32\n",
       "Country_Finland                   int32\n",
       "Country_France                    int32\n",
       "Country_Georgia                   int32\n",
       "Country_Germany                   int32\n",
       "Country_Greece                    int32\n",
       "Country_India                     int32\n",
       "Country_Ireland                   int32\n",
       "Country_Israel                    int32\n",
       "Country_Italy                     int32\n",
       "Country_Mexico                    int32\n",
       "Country_Moldova                   int32\n",
       "Country_Netherlands               int32\n",
       "Country_New Zealand               int32\n",
       "Country_Nigeria                   int32\n",
       "Country_Philippines               int32\n",
       "Country_Poland                    int32\n",
       "Country_Portugal                  int32\n",
       "Country_Russia                    int32\n",
       "Country_Singapore                 int32\n",
       "Country_South Africa              int32\n",
       "Country_Sweden                    int32\n",
       "Country_Switzerland               int32\n",
       "Country_Thailand                  int32\n",
       "Country_United Kingdom            int32\n",
       "Country_United States             int32\n",
       "Occupation_Corporate              int32\n",
       "Occupation_Housewife              int32\n",
       "Occupation_Others                 int32\n",
       "Occupation_Student                int32\n",
       "care_options_Not sure             int32\n",
       "care_options_Yes                  int32\n",
       "dtype: object"
      ]
     },
     "execution_count": 101,
     "metadata": {},
     "output_type": "execute_result"
    }
   ],
   "source": [
    "df_encoded.dtypes"
   ]
  },
  {
   "cell_type": "markdown",
   "id": "10f91cec-ba29-43e1-8cfc-f7e5a1472ce8",
   "metadata": {},
   "source": [
    "**# Define features and target**"
   ]
  },
  {
   "cell_type": "code",
   "execution_count": 103,
   "id": "f719b081-da47-46ee-80b8-becfd0be78ed",
   "metadata": {},
   "outputs": [
    {
     "data": {
      "text/html": [
       "<div>\n",
       "<style scoped>\n",
       "    .dataframe tbody tr th:only-of-type {\n",
       "        vertical-align: middle;\n",
       "    }\n",
       "\n",
       "    .dataframe tbody tr th {\n",
       "        vertical-align: top;\n",
       "    }\n",
       "\n",
       "    .dataframe thead th {\n",
       "        text-align: right;\n",
       "    }\n",
       "</style>\n",
       "<table border=\"1\" class=\"dataframe\">\n",
       "  <thead>\n",
       "    <tr style=\"text-align: right;\">\n",
       "      <th></th>\n",
       "      <th>self_employed</th>\n",
       "      <th>family_history</th>\n",
       "      <th>Days_Indoors</th>\n",
       "      <th>Growing_Stress</th>\n",
       "      <th>Changes_Habits</th>\n",
       "      <th>Mental_Health_History</th>\n",
       "      <th>Mood_Swings</th>\n",
       "      <th>Coping_Struggles</th>\n",
       "      <th>Work_Interest</th>\n",
       "      <th>Social_Weakness</th>\n",
       "      <th>...</th>\n",
       "      <th>Country_Switzerland</th>\n",
       "      <th>Country_Thailand</th>\n",
       "      <th>Country_United Kingdom</th>\n",
       "      <th>Country_United States</th>\n",
       "      <th>Occupation_Corporate</th>\n",
       "      <th>Occupation_Housewife</th>\n",
       "      <th>Occupation_Others</th>\n",
       "      <th>Occupation_Student</th>\n",
       "      <th>care_options_Not sure</th>\n",
       "      <th>care_options_Yes</th>\n",
       "    </tr>\n",
       "  </thead>\n",
       "  <tbody>\n",
       "    <tr>\n",
       "      <th>3</th>\n",
       "      <td>0</td>\n",
       "      <td>1</td>\n",
       "      <td>0</td>\n",
       "      <td>2</td>\n",
       "      <td>1</td>\n",
       "      <td>2</td>\n",
       "      <td>2</td>\n",
       "      <td>0</td>\n",
       "      <td>1</td>\n",
       "      <td>2</td>\n",
       "      <td>...</td>\n",
       "      <td>0</td>\n",
       "      <td>0</td>\n",
       "      <td>0</td>\n",
       "      <td>1</td>\n",
       "      <td>1</td>\n",
       "      <td>0</td>\n",
       "      <td>0</td>\n",
       "      <td>0</td>\n",
       "      <td>0</td>\n",
       "      <td>1</td>\n",
       "    </tr>\n",
       "    <tr>\n",
       "      <th>4</th>\n",
       "      <td>0</td>\n",
       "      <td>1</td>\n",
       "      <td>0</td>\n",
       "      <td>2</td>\n",
       "      <td>1</td>\n",
       "      <td>2</td>\n",
       "      <td>2</td>\n",
       "      <td>0</td>\n",
       "      <td>1</td>\n",
       "      <td>2</td>\n",
       "      <td>...</td>\n",
       "      <td>0</td>\n",
       "      <td>0</td>\n",
       "      <td>0</td>\n",
       "      <td>1</td>\n",
       "      <td>1</td>\n",
       "      <td>0</td>\n",
       "      <td>0</td>\n",
       "      <td>0</td>\n",
       "      <td>0</td>\n",
       "      <td>1</td>\n",
       "    </tr>\n",
       "    <tr>\n",
       "      <th>5</th>\n",
       "      <td>0</td>\n",
       "      <td>0</td>\n",
       "      <td>0</td>\n",
       "      <td>2</td>\n",
       "      <td>1</td>\n",
       "      <td>2</td>\n",
       "      <td>2</td>\n",
       "      <td>0</td>\n",
       "      <td>1</td>\n",
       "      <td>2</td>\n",
       "      <td>...</td>\n",
       "      <td>0</td>\n",
       "      <td>0</td>\n",
       "      <td>0</td>\n",
       "      <td>0</td>\n",
       "      <td>1</td>\n",
       "      <td>0</td>\n",
       "      <td>0</td>\n",
       "      <td>0</td>\n",
       "      <td>1</td>\n",
       "      <td>0</td>\n",
       "    </tr>\n",
       "    <tr>\n",
       "      <th>6</th>\n",
       "      <td>0</td>\n",
       "      <td>1</td>\n",
       "      <td>0</td>\n",
       "      <td>2</td>\n",
       "      <td>1</td>\n",
       "      <td>2</td>\n",
       "      <td>2</td>\n",
       "      <td>0</td>\n",
       "      <td>1</td>\n",
       "      <td>2</td>\n",
       "      <td>...</td>\n",
       "      <td>0</td>\n",
       "      <td>0</td>\n",
       "      <td>0</td>\n",
       "      <td>0</td>\n",
       "      <td>1</td>\n",
       "      <td>0</td>\n",
       "      <td>0</td>\n",
       "      <td>0</td>\n",
       "      <td>1</td>\n",
       "      <td>0</td>\n",
       "    </tr>\n",
       "    <tr>\n",
       "      <th>7</th>\n",
       "      <td>0</td>\n",
       "      <td>0</td>\n",
       "      <td>0</td>\n",
       "      <td>2</td>\n",
       "      <td>1</td>\n",
       "      <td>2</td>\n",
       "      <td>2</td>\n",
       "      <td>0</td>\n",
       "      <td>1</td>\n",
       "      <td>2</td>\n",
       "      <td>...</td>\n",
       "      <td>0</td>\n",
       "      <td>0</td>\n",
       "      <td>0</td>\n",
       "      <td>1</td>\n",
       "      <td>1</td>\n",
       "      <td>0</td>\n",
       "      <td>0</td>\n",
       "      <td>0</td>\n",
       "      <td>0</td>\n",
       "      <td>0</td>\n",
       "    </tr>\n",
       "    <tr>\n",
       "      <th>...</th>\n",
       "      <td>...</td>\n",
       "      <td>...</td>\n",
       "      <td>...</td>\n",
       "      <td>...</td>\n",
       "      <td>...</td>\n",
       "      <td>...</td>\n",
       "      <td>...</td>\n",
       "      <td>...</td>\n",
       "      <td>...</td>\n",
       "      <td>...</td>\n",
       "      <td>...</td>\n",
       "      <td>...</td>\n",
       "      <td>...</td>\n",
       "      <td>...</td>\n",
       "      <td>...</td>\n",
       "      <td>...</td>\n",
       "      <td>...</td>\n",
       "      <td>...</td>\n",
       "      <td>...</td>\n",
       "      <td>...</td>\n",
       "      <td>...</td>\n",
       "    </tr>\n",
       "    <tr>\n",
       "      <th>292359</th>\n",
       "      <td>1</td>\n",
       "      <td>1</td>\n",
       "      <td>1</td>\n",
       "      <td>1</td>\n",
       "      <td>0</td>\n",
       "      <td>1</td>\n",
       "      <td>1</td>\n",
       "      <td>1</td>\n",
       "      <td>1</td>\n",
       "      <td>0</td>\n",
       "      <td>...</td>\n",
       "      <td>0</td>\n",
       "      <td>0</td>\n",
       "      <td>0</td>\n",
       "      <td>1</td>\n",
       "      <td>0</td>\n",
       "      <td>0</td>\n",
       "      <td>0</td>\n",
       "      <td>0</td>\n",
       "      <td>1</td>\n",
       "      <td>0</td>\n",
       "    </tr>\n",
       "    <tr>\n",
       "      <th>292360</th>\n",
       "      <td>0</td>\n",
       "      <td>1</td>\n",
       "      <td>1</td>\n",
       "      <td>1</td>\n",
       "      <td>0</td>\n",
       "      <td>1</td>\n",
       "      <td>1</td>\n",
       "      <td>1</td>\n",
       "      <td>1</td>\n",
       "      <td>0</td>\n",
       "      <td>...</td>\n",
       "      <td>0</td>\n",
       "      <td>0</td>\n",
       "      <td>0</td>\n",
       "      <td>0</td>\n",
       "      <td>0</td>\n",
       "      <td>0</td>\n",
       "      <td>0</td>\n",
       "      <td>0</td>\n",
       "      <td>0</td>\n",
       "      <td>1</td>\n",
       "    </tr>\n",
       "    <tr>\n",
       "      <th>292361</th>\n",
       "      <td>0</td>\n",
       "      <td>1</td>\n",
       "      <td>1</td>\n",
       "      <td>1</td>\n",
       "      <td>0</td>\n",
       "      <td>1</td>\n",
       "      <td>1</td>\n",
       "      <td>1</td>\n",
       "      <td>1</td>\n",
       "      <td>0</td>\n",
       "      <td>...</td>\n",
       "      <td>0</td>\n",
       "      <td>0</td>\n",
       "      <td>0</td>\n",
       "      <td>1</td>\n",
       "      <td>0</td>\n",
       "      <td>0</td>\n",
       "      <td>0</td>\n",
       "      <td>0</td>\n",
       "      <td>0</td>\n",
       "      <td>0</td>\n",
       "    </tr>\n",
       "    <tr>\n",
       "      <th>292362</th>\n",
       "      <td>0</td>\n",
       "      <td>1</td>\n",
       "      <td>1</td>\n",
       "      <td>1</td>\n",
       "      <td>0</td>\n",
       "      <td>1</td>\n",
       "      <td>1</td>\n",
       "      <td>1</td>\n",
       "      <td>1</td>\n",
       "      <td>0</td>\n",
       "      <td>...</td>\n",
       "      <td>0</td>\n",
       "      <td>0</td>\n",
       "      <td>0</td>\n",
       "      <td>1</td>\n",
       "      <td>0</td>\n",
       "      <td>0</td>\n",
       "      <td>0</td>\n",
       "      <td>0</td>\n",
       "      <td>0</td>\n",
       "      <td>1</td>\n",
       "    </tr>\n",
       "    <tr>\n",
       "      <th>292363</th>\n",
       "      <td>0</td>\n",
       "      <td>1</td>\n",
       "      <td>1</td>\n",
       "      <td>1</td>\n",
       "      <td>0</td>\n",
       "      <td>1</td>\n",
       "      <td>1</td>\n",
       "      <td>1</td>\n",
       "      <td>1</td>\n",
       "      <td>0</td>\n",
       "      <td>...</td>\n",
       "      <td>0</td>\n",
       "      <td>0</td>\n",
       "      <td>0</td>\n",
       "      <td>1</td>\n",
       "      <td>0</td>\n",
       "      <td>0</td>\n",
       "      <td>0</td>\n",
       "      <td>0</td>\n",
       "      <td>0</td>\n",
       "      <td>1</td>\n",
       "    </tr>\n",
       "  </tbody>\n",
       "</table>\n",
       "<p>284858 rows × 52 columns</p>\n",
       "</div>"
      ],
      "text/plain": [
       "        self_employed  family_history  Days_Indoors  Growing_Stress  \\\n",
       "3                   0               1             0               2   \n",
       "4                   0               1             0               2   \n",
       "5                   0               0             0               2   \n",
       "6                   0               1             0               2   \n",
       "7                   0               0             0               2   \n",
       "...               ...             ...           ...             ...   \n",
       "292359              1               1             1               1   \n",
       "292360              0               1             1               1   \n",
       "292361              0               1             1               1   \n",
       "292362              0               1             1               1   \n",
       "292363              0               1             1               1   \n",
       "\n",
       "        Changes_Habits  Mental_Health_History  Mood_Swings  Coping_Struggles  \\\n",
       "3                    1                      2            2                 0   \n",
       "4                    1                      2            2                 0   \n",
       "5                    1                      2            2                 0   \n",
       "6                    1                      2            2                 0   \n",
       "7                    1                      2            2                 0   \n",
       "...                ...                    ...          ...               ...   \n",
       "292359               0                      1            1                 1   \n",
       "292360               0                      1            1                 1   \n",
       "292361               0                      1            1                 1   \n",
       "292362               0                      1            1                 1   \n",
       "292363               0                      1            1                 1   \n",
       "\n",
       "        Work_Interest  Social_Weakness  ...  Country_Switzerland  \\\n",
       "3                   1                2  ...                    0   \n",
       "4                   1                2  ...                    0   \n",
       "5                   1                2  ...                    0   \n",
       "6                   1                2  ...                    0   \n",
       "7                   1                2  ...                    0   \n",
       "...               ...              ...  ...                  ...   \n",
       "292359              1                0  ...                    0   \n",
       "292360              1                0  ...                    0   \n",
       "292361              1                0  ...                    0   \n",
       "292362              1                0  ...                    0   \n",
       "292363              1                0  ...                    0   \n",
       "\n",
       "        Country_Thailand  Country_United Kingdom  Country_United States  \\\n",
       "3                      0                       0                      1   \n",
       "4                      0                       0                      1   \n",
       "5                      0                       0                      0   \n",
       "6                      0                       0                      0   \n",
       "7                      0                       0                      1   \n",
       "...                  ...                     ...                    ...   \n",
       "292359                 0                       0                      1   \n",
       "292360                 0                       0                      0   \n",
       "292361                 0                       0                      1   \n",
       "292362                 0                       0                      1   \n",
       "292363                 0                       0                      1   \n",
       "\n",
       "        Occupation_Corporate  Occupation_Housewife  Occupation_Others  \\\n",
       "3                          1                     0                  0   \n",
       "4                          1                     0                  0   \n",
       "5                          1                     0                  0   \n",
       "6                          1                     0                  0   \n",
       "7                          1                     0                  0   \n",
       "...                      ...                   ...                ...   \n",
       "292359                     0                     0                  0   \n",
       "292360                     0                     0                  0   \n",
       "292361                     0                     0                  0   \n",
       "292362                     0                     0                  0   \n",
       "292363                     0                     0                  0   \n",
       "\n",
       "        Occupation_Student  care_options_Not sure  care_options_Yes  \n",
       "3                        0                      0                 1  \n",
       "4                        0                      0                 1  \n",
       "5                        0                      1                 0  \n",
       "6                        0                      1                 0  \n",
       "7                        0                      0                 0  \n",
       "...                    ...                    ...               ...  \n",
       "292359                   0                      1                 0  \n",
       "292360                   0                      0                 1  \n",
       "292361                   0                      0                 0  \n",
       "292362                   0                      0                 1  \n",
       "292363                   0                      0                 1  \n",
       "\n",
       "[284858 rows x 52 columns]"
      ]
     },
     "execution_count": 103,
     "metadata": {},
     "output_type": "execute_result"
    }
   ],
   "source": [
    "X = df_encoded.drop(['treatment'], axis=1)\n",
    "y = df_encoded['treatment']\n",
    "X"
   ]
  },
  {
   "cell_type": "code",
   "execution_count": 98,
   "id": "a15304ef-799d-4b78-903d-f6df026c0900",
   "metadata": {},
   "outputs": [
    {
     "data": {
      "text/plain": [
       "3         1\n",
       "4         1\n",
       "5         1\n",
       "6         1\n",
       "7         0\n",
       "         ..\n",
       "292359    1\n",
       "292360    1\n",
       "292361    0\n",
       "292362    1\n",
       "292363    1\n",
       "Name: treatment, Length: 284858, dtype: int32"
      ]
     },
     "execution_count": 98,
     "metadata": {},
     "output_type": "execute_result"
    }
   ],
   "source": [
    "y"
   ]
  },
  {
   "cell_type": "markdown",
   "id": "50681a9a-4512-44be-a0d5-0927f1e907ad",
   "metadata": {},
   "source": [
    "**TRAIN,TEST AND SPLIT**"
   ]
  },
  {
   "cell_type": "code",
   "execution_count": 105,
   "id": "418bae60-93eb-4a68-8de3-1148f0c941bf",
   "metadata": {},
   "outputs": [
    {
     "name": "stdout",
     "output_type": "stream",
     "text": [
      "(227886, 52) (56972, 52)\n",
      "(227886,) (56972,)\n"
     ]
    }
   ],
   "source": [
    "X_train, X_test, y_train, y_test = train_test_split(X, y, test_size = 0.2, random_state = 42)\n",
    "\n",
    "print(X_train.shape, X_test.shape)\n",
    "print(y_train.shape, y_test.shape)"
   ]
  },
  {
   "cell_type": "code",
   "execution_count": null,
   "id": "fd4d207e-b631-4b61-a029-720d9da09d7f",
   "metadata": {},
   "outputs": [],
   "source": []
  },
  {
   "cell_type": "markdown",
   "id": "11b9d5b3-e601-4127-90f7-a44662d917fb",
   "metadata": {},
   "source": [
    "## **FEATURE SELECTION**"
   ]
  },
  {
   "cell_type": "markdown",
   "id": "240ff21a-c593-441a-8734-588bd0537454",
   "metadata": {},
   "source": [
    "**# Random Forest Classifier for feature selection**"
   ]
  },
  {
   "cell_type": "code",
   "execution_count": 107,
   "id": "712f5da0-868d-4d4d-9be3-221611f42a36",
   "metadata": {},
   "outputs": [
    {
     "name": "stdout",
     "output_type": "stream",
     "text": [
      "                           Feature  Importance\n",
      "1                   family_history    0.409466\n",
      "51                care_options_Yes    0.248400\n",
      "11                     Gender_Male    0.081768\n",
      "50           care_options_Not sure    0.050264\n",
      "10         mental_health_interview    0.043365\n",
      "22                  Country_France    0.032850\n",
      "45           Country_United States    0.021908\n",
      "28                  Country_Israel    0.013709\n",
      "27                 Country_Ireland    0.011356\n",
      "29                   Country_Italy    0.009883\n",
      "36                  Country_Poland    0.008252\n",
      "32             Country_Netherlands    0.007164\n",
      "15                  Country_Canada    0.005942\n",
      "0                    self_employed    0.005732\n",
      "33             Country_New Zealand    0.005684\n",
      "39               Country_Singapore    0.004037\n",
      "20                 Country_Denmark    0.003934\n",
      "44          Country_United Kingdom    0.003618\n",
      "26                   Country_India    0.003602\n",
      "24                 Country_Germany    0.003374\n",
      "38                  Country_Russia    0.003255\n",
      "41                  Country_Sweden    0.003159\n",
      "19          Country_Czech Republic    0.002774\n",
      "18                 Country_Croatia    0.002569\n",
      "13  Country_Bosnia and Herzegovina    0.002371\n",
      "37                Country_Portugal    0.002192\n",
      "12                 Country_Belgium    0.002092\n",
      "25                  Country_Greece    0.001885\n",
      "40            Country_South Africa    0.000803\n",
      "31                 Country_Moldova    0.000729\n",
      "17              Country_Costa Rica    0.000588\n",
      "23                 Country_Georgia    0.000470\n",
      "30                  Country_Mexico    0.000444\n",
      "42             Country_Switzerland    0.000385\n",
      "34                 Country_Nigeria    0.000376\n",
      "43                Country_Thailand    0.000348\n",
      "21                 Country_Finland    0.000261\n",
      "35             Country_Philippines    0.000244\n",
      "14                  Country_Brazil    0.000213\n",
      "16                Country_Colombia    0.000168\n",
      "3                   Growing_Stress    0.000085\n",
      "2                     Days_Indoors    0.000065\n",
      "7                 Coping_Struggles    0.000063\n",
      "8                    Work_Interest    0.000029\n",
      "5            Mental_Health_History    0.000024\n",
      "4                   Changes_Habits    0.000022\n",
      "9                  Social_Weakness    0.000021\n",
      "48               Occupation_Others    0.000016\n",
      "6                      Mood_Swings    0.000015\n",
      "46            Occupation_Corporate    0.000011\n",
      "47            Occupation_Housewife    0.000009\n",
      "49              Occupation_Student    0.000007\n",
      "Top 10 Features: ['family_history' 'care_options_Yes' 'Gender_Male' 'care_options_Not sure'\n",
      " 'mental_health_interview' 'Country_France' 'Country_United States'\n",
      " 'Country_Israel' 'Country_Ireland' 'Country_Italy']\n"
     ]
    }
   ],
   "source": [
    "from sklearn.ensemble import RandomForestClassifier\n",
    "from sklearn.model_selection import train_test_split\n",
    "\n",
    "\n",
    "#Initialize and train Random Forest Classifier\n",
    "rf = RandomForestClassifier(random_state=42, max_depth=5)\n",
    "rf.fit(X_train, y_train)\n",
    "\n",
    "#Get feature importances\n",
    "importances = rf.feature_importances_\n",
    "\n",
    "#Create a DataFrame to view feature importances\n",
    "import pandas as pd\n",
    "feature_importances = pd.DataFrame({\n",
    "    'Feature': X_train.columns,\n",
    "    'Importance': importances\n",
    "})\n",
    "\n",
    "# Sort features by importance\n",
    "feature_importances = feature_importances.sort_values(by='Importance', ascending=False)\n",
    "\n",
    "# Print the feature importances\n",
    "print(feature_importances)\n",
    "\n",
    "#  select the top N features\n",
    "top_n_features = feature_importances.head(10)['Feature'].values  \n",
    "print(\"Top 10 Features:\", top_n_features)\n",
    "\n",
    "#Select the top N features and reduce the dataset\n",
    "X_train_selected = X_train[top_n_features]\n",
    "X_test_selected = X_test[top_n_features]\n"
   ]
  },
  {
   "cell_type": "code",
   "execution_count": null,
   "id": "0018cf18-ee89-4b47-918d-21165a87c651",
   "metadata": {},
   "outputs": [],
   "source": []
  }
 ],
 "metadata": {
  "kernelspec": {
   "display_name": "Python 3 (ipykernel)",
   "language": "python",
   "name": "python3"
  },
  "language_info": {
   "codemirror_mode": {
    "name": "ipython",
    "version": 3
   },
   "file_extension": ".py",
   "mimetype": "text/x-python",
   "name": "python",
   "nbconvert_exporter": "python",
   "pygments_lexer": "ipython3",
   "version": "3.12.4"
  }
 },
 "nbformat": 4,
 "nbformat_minor": 5
}
